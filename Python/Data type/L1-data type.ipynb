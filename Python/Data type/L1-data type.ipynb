{
 "cells": [
  {
   "cell_type": "markdown",
   "id": "9cacd9e4",
   "metadata": {
    "id": "9cacd9e4"
   },
   "source": [
    "# Data Types & Basic Programs\n",
    "- Write solution of each question in the cell given below the corresponsing question."
   ]
  },
  {
   "cell_type": "markdown",
   "id": "a36a3683",
   "metadata": {
    "id": "a36a3683"
   },
   "source": [
    "#### 1. Write a program to take principal amount, rate and interest as input and calculate simple interest."
   ]
  },
  {
   "cell_type": "code",
   "execution_count": 42,
   "id": "iyGa2yN7bkZL",
   "metadata": {
    "colab": {
     "base_uri": "https://localhost:8080/",
     "height": 130
    },
    "executionInfo": {
     "elapsed": 8,
     "status": "error",
     "timestamp": 1682422665028,
     "user": {
      "displayName": "saylee morey",
      "userId": "14399473198527863861"
     },
     "user_tz": -330
    },
    "id": "iyGa2yN7bkZL",
    "outputId": "43c86045-073b-48a6-b7fb-8895e19b4b9c"
   },
   "outputs": [
    {
     "name": "stdout",
     "output_type": "stream",
     "text": [
      "Enter the Details(Principal amount,Duration,Rate) : 10000 3.5 7\n",
      "The simple interest for amount 10000 on duration of 3.5 years at  7% is 2450.0%\n"
     ]
    }
   ],
   "source": [
    "details=input(\"Enter the Details(Principal amount,Duration,Rate) : \").split()\n",
    "\n",
    "amount=int(details[0])\n",
    "duration=float(details[1])\n",
    "rate=int(details[2])\n",
    "\n",
    "simple_interest=amount*duration*rate/100\n",
    "print(\"The simple interest for amount {} on duration of {} years at  {}% is {}%\".format( amount,duration,rate,simple_interest))\n",
    "\n",
    " "
   ]
  },
  {
   "cell_type": "markdown",
   "id": "3a9994e0",
   "metadata": {
    "id": "3a9994e0"
   },
   "source": [
    "#### 2. Write a program that takes a string as input and prints the number of words in the string."
   ]
  },
  {
   "cell_type": "code",
   "execution_count": 11,
   "id": "9VbTZFFQfHCm",
   "metadata": {
    "id": "9VbTZFFQfHCm"
   },
   "outputs": [
    {
     "name": "stdout",
     "output_type": "stream",
     "text": [
      "Enter words in the string : The code for apple is aaa bbb ccc\n",
      "The Number of words in the string :  8\n"
     ]
    }
   ],
   "source": [
    "words=input(\"Enter words in the string : \").split()\n",
    "print(\"The Number of words in the string : \",len(words))"
   ]
  },
  {
   "cell_type": "markdown",
   "id": "8a8d5e27",
   "metadata": {
    "id": "8a8d5e27"
   },
   "source": [
    "#### 3. Write a program to take a list of numbers as input (in a single line) and print the sum, avg, max and min elements."
   ]
  },
  {
   "cell_type": "code",
   "execution_count": 14,
   "id": "OUlGO6fiVlU7",
   "metadata": {
    "id": "OUlGO6fiVlU7"
   },
   "outputs": [
    {
     "name": "stdout",
     "output_type": "stream",
     "text": [
      "Enter the five numbers : 70 80 90 95 96\n",
      "The sum of numbers are :  431\n",
      "The Average of numbers are :  86.2\n",
      "The Maximum element is :  96\n",
      "The Minimum element is :  70\n"
     ]
    }
   ],
   "source": [
    "numbers=list(map(int,input(\"Enter the five numbers : \").split( )))\n",
    "print(\"The sum of numbers are : \", sum(numbers))\n",
    "print(\"The Average of numbers are : \",sum(numbers)/len(numbers))\n",
    "print(\"The Maximum element is : \",max(numbers))\n",
    "print(\"The Minimum element is : \",min(numbers))"
   ]
  },
  {
   "cell_type": "markdown",
   "id": "17dbd6e8",
   "metadata": {
    "id": "17dbd6e8"
   },
   "source": [
    "#### 4. Write a program to take the marks of 3 students in five subjects each as a list (one list for each input) as input and print the average score of each student.."
   ]
  },
  {
   "cell_type": "code",
   "execution_count": 20,
   "id": "BTd2sM7i9sui",
   "metadata": {
    "id": "BTd2sM7i9sui"
   },
   "outputs": [
    {
     "name": "stdout",
     "output_type": "stream",
     "text": [
      "Enter the Marks in Five subjects : 67 78 89 97 90\n",
      "Enter the Marks in Five subjects : 82 83 84 85 86\n",
      "Enter the Marks in Five subjects : 90 91 94 95 96\n",
      "The Average score of Student 1 is:  84.2\n",
      "The Average score of student 2 is :  84.0\n",
      "The Average score of student 3 is :  93.2\n"
     ]
    }
   ],
   "source": [
    "student1=list(map(int,input(\"Enter the Marks in Five subjects : \").split( )))\n",
    "student2=list(map(int,input(\"Enter the Marks in Five subjects : \").split( )))\n",
    "student3=list(map(int,input(\"Enter the Marks in Five subjects : \").split( )))\n",
    "\n",
    "\n",
    "print(\"The Average score of Student 1 is: \",sum(student1)/len(student1))\n",
    "print(\"The Average score of student 2 is : \",sum(student2)/len(student2))\n",
    "print(\"The Average score of student 3 is : \",sum(student3)/len(student3))"
   ]
  },
  {
   "cell_type": "markdown",
   "id": "39fb8526",
   "metadata": {
    "id": "39fb8526"
   },
   "source": [
    "#### 5. Write a program to take a list as input containing results of 10 coin tosses as 'H' or 'T'. Jon gets a point for each 'T' and Tom gets a point for each 'H'. print the points recieved by both."
   ]
  },
  {
   "cell_type": "code",
   "execution_count": 5,
   "id": "Ijvfc63fHr8B",
   "metadata": {
    "id": "Ijvfc63fHr8B"
   },
   "outputs": [
    {
     "name": "stdout",
     "output_type": "stream",
     "text": [
      "Enter the result of 10 coin tosses: H T T T T H H H T T\n",
      "points received by tom 4 and jon 6\n"
     ]
    }
   ],
   "source": [
    "outcomes=input(\"Enter the result of 10 coin tosses: \")\n",
    "tom=outcomes.count('H')\n",
    "jon=outcomes.count('T')\n",
    "\n",
    "print(\"points received by tom {} and jon {}\".format(tom,jon))\n",
    "\n",
    "\n",
    "  \n",
    "\n"
   ]
  },
  {
   "cell_type": "markdown",
   "id": "4a6dc391",
   "metadata": {
    "id": "4a6dc391"
   },
   "source": [
    "#### 6. Take two numbers as input and print the result after swapping them. (Without using multiple assignment and any extra variable)."
   ]
  },
  {
   "cell_type": "code",
   "execution_count": 21,
   "id": "oiSoXznqZbC_",
   "metadata": {
    "id": "oiSoXznqZbC_"
   },
   "outputs": [
    {
     "name": "stdout",
     "output_type": "stream",
     "text": [
      "Enter the number 1 : 10\n",
      "Enter the number 2 : 20\n",
      "The values before swapping are below : \n",
      "The value of num1 :  10\n",
      "The value of num2 :  20\n",
      "The values after swapping are below: \n",
      "The value of num1 :  20\n",
      "The value of num2 :  10\n"
     ]
    }
   ],
   "source": [
    "num1=int(input(\"Enter the number 1 : \"))\n",
    "num2=int(input(\"Enter the number 2 : \"))\n",
    "\n",
    "print(\"The values before swapping are below : \")\n",
    "print(\"The value of num1 : \",num1)\n",
    "print(\"The value of num2 : \",num2)\n",
    "\n",
    "num1=num1+num2\n",
    "num2=num1-num2\n",
    "num1=num1-num2\n",
    " \n",
    "    \n",
    "print(\"The values after swapping are below: \")\n",
    "print(\"The value of num1 : \",num1)\n",
    "print(\"The value of num2 : \",num2)\n"
   ]
  },
  {
   "cell_type": "markdown",
   "id": "b0059e36",
   "metadata": {
    "id": "b0059e36"
   },
   "source": [
    "#### 7. Take a list as input in a single line containing 10 numbers as marks out of 100. The even positions in the list are marks of Tom and the odd positions are the marks of Jon. Calculate the average marks of both."
   ]
  },
  {
   "cell_type": "code",
   "execution_count": 8,
   "id": "dzK-bSIM6rh6",
   "metadata": {
    "id": "dzK-bSIM6rh6"
   },
   "outputs": [
    {
     "name": "stdout",
     "output_type": "stream",
     "text": [
      "Enter the marks: 60 70 74 80 90 84 85 87 89 99\n",
      "[60, 74, 90, 85, 89]\n",
      "[70, 80, 84, 87, 99]\n",
      "The Average marks of Tom :  79.6\n",
      "The Average marks of jon :  84.0\n"
     ]
    }
   ],
   "source": [
    "marks=list(map(int,input(\"Enter the marks: \").split()))\n",
    "tom_marks=marks[0::2]\n",
    "jon_marks=marks[1::2]\n",
    "    \n",
    "print(tom_marks)\n",
    "print(jon_marks)\n",
    "\n",
    "print(\"The Average marks of Tom : \",sum(tom_marks)/len(tom_marks))\n",
    "print(\"The Average marks of jon : \",sum(jon_marks)/len(jon_marks))\n"
   ]
  },
  {
   "cell_type": "markdown",
   "id": "f07dab7c",
   "metadata": {
    "id": "f07dab7c"
   },
   "source": [
    "#### 8. Take a string and a character as input. Print the result having the character between each word of the given string."
   ]
  },
  {
   "cell_type": "code",
   "execution_count": 3,
   "id": "Bak8JEWdAAFv",
   "metadata": {
    "id": "Bak8JEWdAAFv"
   },
   "outputs": [
    {
     "name": "stdout",
     "output_type": "stream",
     "text": [
      "Enter the string : Hello good morning\n",
      "Enter the character : abc\n"
     ]
    },
    {
     "data": {
      "text/plain": [
       "'Helloabcgoodabcmorning'"
      ]
     },
     "execution_count": 3,
     "metadata": {},
     "output_type": "execute_result"
    }
   ],
   "source": [
    "a=input(\"Enter the string : \").split()\n",
    "b=input(\"Enter the character : \")\n",
    "\n",
    "b.join(a)"
   ]
  },
  {
   "cell_type": "markdown",
   "id": "a45320b7",
   "metadata": {
    "id": "a45320b7"
   },
   "source": [
    "#### 9. Create a dictionary having three items. Key of each item is the name of a student, value associated with each key is a list of marks in five subjects. Given this dictionary print the average score of each student."
   ]
  },
  {
   "cell_type": "code",
   "execution_count": 23,
   "id": "_WpSWzXdLyri",
   "metadata": {
    "id": "_WpSWzXdLyri",
    "scrolled": true
   },
   "outputs": [
    {
     "name": "stdout",
     "output_type": "stream",
     "text": [
      "Average of student1 :  70.8\n",
      "Average of student2 :  79.6\n",
      "Average of student3 :  90.6\n"
     ]
    }
   ],
   "source": [
    "d1={'student1': [60,70,79,78,67],'student2': [70,76,82,84,86],'student3': [91,93,94,86,89] }\n",
    "cov_list=list(d1.values())\n",
    "cov_list\n",
    "\n",
    "print(\"Average of student1 : \" ,sum(d1['student1'])/len(d1['student1']))\n",
    "print(\"Average of student2 : \" ,sum(d1['student2'])/len(d1['student2']))\n",
    "print(\"Average of student3 : \" ,sum(d1['student3'])/len(d1['student3']))\n"
   ]
  },
  {
   "cell_type": "markdown",
   "id": "aba63bd1",
   "metadata": {
    "id": "aba63bd1"
   },
   "source": [
    "#### 10. Take a string as input(may contain repetitive words), print a list consisting of unique words from the given string."
   ]
  },
  {
   "cell_type": "code",
   "execution_count": 41,
   "id": "Wrc5hOBIF-ww",
   "metadata": {
    "id": "Wrc5hOBIF-ww"
   },
   "outputs": [
    {
     "data": {
      "text/plain": [
       "{'Apple', 'Ball', 'Basket', 'Bat'}"
      ]
     },
     "execution_count": 41,
     "metadata": {},
     "output_type": "execute_result"
    }
   ],
   "source": [
    "words=['Apple','Ball',\"Bat\",\"Apple\",\"Apple\",\"Basket\",\"Bat\",\"Ball\"]\n",
    "unique_words=set(words)\n",
    "unique_words"
   ]
  },
  {
   "cell_type": "code",
   "execution_count": null,
   "id": "bbb43c14",
   "metadata": {},
   "outputs": [],
   "source": []
  }
 ],
 "metadata": {
  "colab": {
   "provenance": []
  },
  "kernelspec": {
   "display_name": "Python 3 (ipykernel)",
   "language": "python",
   "name": "python3"
  },
  "language_info": {
   "codemirror_mode": {
    "name": "ipython",
    "version": 3
   },
   "file_extension": ".py",
   "mimetype": "text/x-python",
   "name": "python",
   "nbconvert_exporter": "python",
   "pygments_lexer": "ipython3",
   "version": "3.11.4"
  }
 },
 "nbformat": 4,
 "nbformat_minor": 5
}
