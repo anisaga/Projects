{
 "cells": [
  {
   "cell_type": "markdown",
   "id": "3a10df7a",
   "metadata": {
    "id": "3a10df7a"
   },
   "source": [
    "# Conditional Statements\n",
    "- Write solution of each question in the cell given below the corresponsing question."
   ]
  },
  {
   "cell_type": "markdown",
   "id": "60c2d89a",
   "metadata": {
    "id": "60c2d89a"
   },
   "source": [
    "#### 1. Take a list of numbers as input. Print whether the average is even or odd."
   ]
  },
  {
   "cell_type": "code",
   "execution_count": 2,
   "id": "Fh5bSu8vCRWU",
   "metadata": {
    "id": "Fh5bSu8vCRWU"
   },
   "outputs": [
    {
     "name": "stdout",
     "output_type": "stream",
     "text": [
      "Enter the five numbers(seperated by space) : 20 30 40 10 60\n",
      "Average is even :  32.0\n"
     ]
    }
   ],
   "source": [
    "num=list(map(int,input(\"Enter the five numbers(seperated by space) : \").split()))#list of numbers as input\n",
    "avg=sum(num)/len(num) #calculate average\n",
    "if avg % 2==0:\n",
    "    print(\"Average is even : \",avg)\n",
    "else:\n",
    "    print(\"Average is odd : \",avg)"
   ]
  },
  {
   "cell_type": "markdown",
   "id": "4846bb19",
   "metadata": {
    "id": "4846bb19"
   },
   "source": [
    "#### 2. Take three strings as input. Calculate the number of words in each string and find out the list having highest number of words."
   ]
  },
  {
   "cell_type": "code",
   "execution_count": 1,
   "id": "pfGpZ9okCTfV",
   "metadata": {
    "id": "pfGpZ9okCTfV"
   },
   "outputs": [
    {
     "name": "stdout",
     "output_type": "stream",
     "text": [
      "Enter the first string : \"Hello welcome\"\n",
      "Enter the second string : Come and have it\n",
      "Enter the third string : Happy and get what you want\n",
      "String3 has highest number of words :  6\n"
     ]
    }
   ],
   "source": [
    "string1=input(\"Enter the first string : \") #3strings as input\n",
    "string2=input(\"Enter the second string : \") \n",
    "string3=input(\"Enter the third string : \")\n",
    "a=len(string1.split())  #use length function to calculate number of words \n",
    "b=len(string2.split())\n",
    "c=len(string3.split())\n",
    "if a > b and a > c:\n",
    "    print(\"String1 has highest number of words : \",a)\n",
    "elif b > c :\n",
    "    print(\"String2 has highest number of words : \",b)\n",
    "else:\n",
    "    print(\"String3 has highest number of words : \",c)"
   ]
  },
  {
   "cell_type": "markdown",
   "id": "0e0d8196",
   "metadata": {
    "id": "0e0d8196"
   },
   "source": [
    "#### 3. Take four numbers as input in a single line. Find out the largest number."
   ]
  },
  {
   "cell_type": "code",
   "execution_count": 2,
   "id": "Fc_7ETl1CVMu",
   "metadata": {
    "id": "Fc_7ETl1CVMu"
   },
   "outputs": [
    {
     "name": "stdout",
     "output_type": "stream",
     "text": [
      "Enter four numbers : 25 30 40 90\n",
      "The largest number is :  90\n"
     ]
    }
   ],
   "source": [
    "a,b,c,d=list(map(int,input(\"Enter four numbers : \").split())) #map function to take list as single line input\n",
    "if a>b and a>c and a>d:\n",
    "    print(\"The largest number is : \",a)\n",
    "elif b>c and b>d:\n",
    "    print(\"The largest number is : \",b)\n",
    "elif c>d:\n",
    "    print(\"The largest number is : \",c)\n",
    "else:\n",
    "    print(\"The largest number is : \",d)    \n"
   ]
  },
  {
   "cell_type": "markdown",
   "id": "16c0440a",
   "metadata": {
    "id": "16c0440a"
   },
   "source": [
    "#### 4. Take four numbers as input and find the second largest numer."
   ]
  },
  {
   "cell_type": "code",
   "execution_count": 3,
   "id": "RuBQfFAHWAlL",
   "metadata": {
    "id": "RuBQfFAHWAlL"
   },
   "outputs": [
    {
     "name": "stdout",
     "output_type": "stream",
     "text": [
      "Enter four numbers(seperated by space) : 20 30 40 50\n",
      "c is second largest\n"
     ]
    }
   ],
   "source": [
    "a,b,c,d=list(map(int,input(\"Enter four numbers(seperated by space) : \").split())) #input four numbers\n",
    "if a>b and a>c and a>d:                 #compare 3 numbers \n",
    "    if b>c and b>d:            \n",
    "        print(\"b is the second largest\")    #calculate second largest\n",
    "    elif c>d:\n",
    "        print(\"c is the second largest\")\n",
    "    else:\n",
    "        print(\"d is second largest\")        \n",
    "elif b>c and b>d:\n",
    "    if a>c and a>d:\n",
    "        print(\"c is the second largest\")\n",
    "    elif c>d:\n",
    "        print(\"d is second largest\")\n",
    "    else:\n",
    "        print(\"a is second largest\")\n",
    "elif c>d:\n",
    "    if a>b and a>d:\n",
    "        print(\"d is second largest\")\n",
    "    elif b>d:\n",
    "        print(\"b is second largest\")\n",
    "    else:\n",
    "        print(\"a is second largest\")\n",
    "else:\n",
    "    if a>b and a>c:\n",
    "        print(\"a is second largest\")\n",
    "    elif b>c:\n",
    "        print(\"b is second largest\")\n",
    "    else:\n",
    "        print(\"c is second largest\")"
   ]
  },
  {
   "cell_type": "markdown",
   "id": "2f6641a4",
   "metadata": {
    "id": "2f6641a4"
   },
   "source": [
    "#### 5. Create a dictionary having three items. Key of each item is the name of a student, value associated with each key is a list of marks in five subjects. Given this dictionary print the top and lowest scorers."
   ]
  },
  {
   "cell_type": "code",
   "execution_count": 5,
   "id": "R5C1C61OYuls",
   "metadata": {
    "id": "R5C1C61OYuls"
   },
   "outputs": [
    {
     "name": "stdout",
     "output_type": "stream",
     "text": [
      "Top scorer is tom:  388\n",
      "Lowest scorer is jon:  329\n"
     ]
    }
   ],
   "source": [
    "students={'Tom':[89,98,45,67,89], 'Jon':[92,41,43,66,87], 'Bob':[67,53,89,89,34]}  # dict for three items\n",
    "tom_total=sum(students['Tom'])      #calculate sum of each marks to find top and low scorer\n",
    "jon_total=sum(students['Jon'])\n",
    "bob_total=sum(students['Bob'])\n",
    "#calculate top scorer\n",
    "if tom_total>jon_total:\n",
    "    print(\"Top scorer is tom: \",tom_total)\n",
    "elif jon_total>bob_total:\n",
    "    print(\"Top scorer is jon: \",jon_total)\n",
    "else:\n",
    "    print(\"Top scorer is bob: \",bob_total)\n",
    "# find lowest scorer\n",
    "if tom_total<jon_total:\n",
    "    print(\"Lowest scorer is tom : \",tom_total)\n",
    "elif jon_total<bob_total:\n",
    "    print(\"Lowest scorer is jon: \",jon_total)\n",
    "else:\n",
    "    print(\"Lowest scorer is bob: \",bob_total)\n"
   ]
  },
  {
   "cell_type": "markdown",
   "id": "64db0791",
   "metadata": {
    "id": "64db0791"
   },
   "source": [
    "#### 6. Create a dictionary (called data) of having at least 5 items : Usernames as keys and Passwords as values. Write a program that takes a username and a password as input. If the credentials match any iteam in the given dictionary data then print acces granted otherwise print whether username, password or both are wrong."
   ]
  },
  {
   "cell_type": "code",
   "execution_count": 26,
   "id": "WtqLAvhiazaM",
   "metadata": {
    "id": "WtqLAvhiazaM"
   },
   "outputs": [
    {
     "name": "stdout",
     "output_type": "stream",
     "text": [
      "Enter the username : Tom\n",
      "Enter the password : 123\n",
      "Access granted\n"
     ]
    }
   ],
   "source": [
    "data={\"Tom\":123,\"Jon\":222,\"Abi\":333,\"Vinay\":376,\"sonu\": 444}  #create dict of 5items\n",
    "username=input(\"Enter the username : \") #take username input from user\n",
    "\n",
    "if username in data.keys():                       #if username is correct access will be granted\n",
    "    password=int(input(\"Enter the password : \"))\n",
    "    if password ==data[username]:\n",
    "        print(\"Access granted\")\n",
    "    else:\n",
    "        print(\"Incorrect password\")\n",
    "else:\n",
    "    print(\"Incorrect username and password\")"
   ]
  },
  {
   "cell_type": "markdown",
   "id": "27c56bb8",
   "metadata": {
    "id": "27c56bb8"
   },
   "source": [
    "#### 7. Take a list as input in a single line containing 15 numbers as marks out of 100. The first five numbers in the list are marks of Tom, the middle 5 numbers are marks of Bob and the last 5 are the marks of Jon. Find out the top and lowest scorer."
   ]
  },
  {
   "cell_type": "code",
   "execution_count": 7,
   "id": "ah156U4T9iat",
   "metadata": {
    "id": "ah156U4T9iat",
    "scrolled": true
   },
   "outputs": [
    {
     "name": "stdout",
     "output_type": "stream",
     "text": [
      "Enter the marks of Fifteen numbers (seperated by space): 60 67 68 69 70 74 75 76 78 79 82 89 91 92 93 \n",
      "Top scorer is jon :  89.4\n",
      "Lowest scorer is tom :  66.8\n"
     ]
    }
   ],
   "source": [
    "marks=list(map(int,input(\"Enter the marks of Fifteen numbers (seperated by space): \").split()))\n",
    "tom_marks=marks[:5] #indexing 1st five elements as marks of tom\n",
    "bob_marks=marks[5:10] #indexing middle five elements from 6 to 10 as marks of bob\n",
    "jon_marks=marks[10:15] #indexing last five elements from 11 to 15 as marks of jon\n",
    "avg_tom=sum(tom_marks)/len(tom_marks)\n",
    "avg_bob=sum(bob_marks)/len(bob_marks)\n",
    "avg_jon=sum(jon_marks)/len(jon_marks)\n",
    "#find top scorer\n",
    "if avg_tom>avg_bob:\n",
    "    print(\"Top scorer is tom : \",avg_tom)\n",
    "elif avg_bob>avg_jon:\n",
    "    print(\"Top scorer is bob : \",avg_bob)\n",
    "else:\n",
    "    print(\"Top scorer is jon : \",avg_jon)\n",
    "#find lowest scorer\n",
    "if avg_tom<avg_bob:\n",
    "    print(\"Lowest scorer is tom : \",avg_tom)\n",
    "elif avg_bob<avg_jon:\n",
    "    print(\"Lowest scorer is bob : \",avg_bob)\n",
    "else:\n",
    "    print(\"Lowest scorer is jon : \",avg_jon)\n",
    "        "
   ]
  },
  {
   "cell_type": "markdown",
   "id": "20f59542",
   "metadata": {
    "id": "20f59542"
   },
   "source": [
    "#### 8. Take a number as input and print whether the number is a multiple of 3,5 or both."
   ]
  },
  {
   "cell_type": "code",
   "execution_count": 27,
   "id": "otWg3MXaYing",
   "metadata": {
    "id": "otWg3MXaYing"
   },
   "outputs": [
    {
     "name": "stdout",
     "output_type": "stream",
     "text": [
      "Enter the number : 15\n",
      "The number is divisible by both 5 and 3  :  15\n"
     ]
    }
   ],
   "source": [
    "num=int(input(\"Enter the number : \")) # input from user\n",
    "if num % 5 == 0 and num % 3 ==0:\n",
    "    print(\"The number is divisible by both 5 and 3  : \",num)\n",
    "elif num % 3 == 0 :\n",
    "    print(\"The number is divisible by 3 only : \",num)  \n",
    "elif num % 5 == 0:\n",
    "    print(\"The number is divisible by 5 only : \",num)\n",
    "else:\n",
    "    print(\"The number is not divisible by both 3 and 5 : \",num )"
   ]
  },
  {
   "cell_type": "markdown",
   "id": "b770e791",
   "metadata": {
    "id": "b770e791"
   },
   "source": [
    "#### 9. Write a program to take three strings as input and print the string having second largest number of words."
   ]
  },
  {
   "cell_type": "code",
   "execution_count": 9,
   "id": "BIaLOJ6eEvGO",
   "metadata": {
    "id": "BIaLOJ6eEvGO"
   },
   "outputs": [
    {
     "name": "stdout",
     "output_type": "stream",
     "text": [
      "Enter the first string : Hello welcome everyone\n",
      "Enter the second string : Hai everyone present here \n",
      "Enter the third string : Hello can we get exact number of words\n",
      "string2 has second largest number of words\n"
     ]
    }
   ],
   "source": [
    "string1=input(\"Enter the first string : \") #take three strings as input\n",
    "string2=input(\"Enter the second string : \")\n",
    "string3=input(\"Enter the third string : \")\n",
    "word1=len(string1.split()) #split words in string to calculate each words ength \n",
    "word2=len(string2.split())\n",
    "word3=len(string3.split())\n",
    "if word1>word2 and word1>word3:\n",
    "    if word2>word3:\n",
    "        print(\"string 2 has second largest number of words\")\n",
    "    else:\n",
    "        print(\"string 3 has second largest number of words\")\n",
    "elif word2>word3:\n",
    "    if word1>word3:\n",
    "        print(\"string 1 has second largest number of words\")\n",
    "    else:\n",
    "        print(\"string 3 has second largest number of words\")\n",
    "else:\n",
    "    if word1>word2:\n",
    "        print(\"string1 has second largest number of words\")\n",
    "    else:\n",
    "        print(\"string2 has second largest number of words\")"
   ]
  },
  {
   "cell_type": "markdown",
   "id": "5a485c8c",
   "metadata": {
    "id": "5a485c8c"
   },
   "source": [
    "#### 10. Write a program to take four strings as input and print the string having third highest number of words."
   ]
  },
  {
   "cell_type": "code",
   "execution_count": 13,
   "id": "19Wx8OZqk3UQ",
   "metadata": {
    "id": "19Wx8OZqk3UQ"
   },
   "outputs": [
    {
     "name": "stdout",
     "output_type": "stream",
     "text": [
      "Enter the first string  : Hello welcome\n",
      "Enter the Second string : welcome back for all members\n",
      "Enter the third string  : its too late \n",
      "Enter the fourth string : hello\n",
      "a has third highest number of words :  2\n"
     ]
    }
   ],
   "source": [
    "s1=input(\"Enter the first string  : \")\n",
    "s2=input(\"Enter the Second string : \")\n",
    "s3=input(\"Enter the third string  : \")\n",
    "s4=input(\"Enter the fourth string : \")\n",
    "a=len(s1.split())\n",
    "b=len(s2.split())\n",
    "c=len(s3.split())\n",
    "d=len(s4.split())\n",
    "if a<b and a<c and a<d :\n",
    "    if b<c and b<d:\n",
    "        print(\"b has third highest number of words : \",b)\n",
    "    elif c<d:\n",
    "        print(\"c has third highst number of words : \",c)\n",
    "    else:\n",
    "        print(\"d has third highest number of words : \",d)\n",
    "elif b<c and b<d :\n",
    "    if c<d and c<a:\n",
    "        print(\"c has third highest number of words : \",c)\n",
    "    elif d<a:\n",
    "        print(\"d has third highst number of words : \",d)\n",
    "    else:\n",
    "        print(\"a has third highest number of words : \",a)\n",
    "elif  c<a and c<d :\n",
    "    if a<d and a<b:\n",
    "        print(\"a has third highest number of words : \",a)\n",
    "    elif d<b:\n",
    "        print(\"d has third highst number of words : \",d)\n",
    "    else:\n",
    "        print(\"b has third highest number of words : \",b)\n",
    "else :\n",
    "    if a<b and a<c:\n",
    "        print(\"a has third highest number of words : \",a)\n",
    "    elif b<c:\n",
    "        print(\"b has third highst number of words : \",b)\n",
    "    else:\n",
    "        print(\"c has third highest number of words : \",c)"
   ]
  },
  {
   "cell_type": "code",
   "execution_count": null,
   "id": "ddb7b9bc",
   "metadata": {},
   "outputs": [],
   "source": []
  }
 ],
 "metadata": {
  "colab": {
   "provenance": []
  },
  "kernelspec": {
   "display_name": "Python 3 (ipykernel)",
   "language": "python",
   "name": "python3"
  },
  "language_info": {
   "codemirror_mode": {
    "name": "ipython",
    "version": 3
   },
   "file_extension": ".py",
   "mimetype": "text/x-python",
   "name": "python",
   "nbconvert_exporter": "python",
   "pygments_lexer": "ipython3",
   "version": "3.11.4"
  }
 },
 "nbformat": 4,
 "nbformat_minor": 5
}
