{
 "cells": [
  {
   "cell_type": "markdown",
   "id": "4f1596de",
   "metadata": {
    "id": "4f1596de"
   },
   "source": [
    "# Functions\n",
    "- Write solution of each question in the cell given below the corresponsing question.\n",
    "- Function taking input refers to input as a parameter / argument being passed."
   ]
  },
  {
   "cell_type": "markdown",
   "id": "6f0d9ac3",
   "metadata": {
    "id": "6f0d9ac3"
   },
   "source": [
    "#### 1. Create a function that takes a list of numbers as input and returns the median."
   ]
  },
  {
   "cell_type": "code",
   "execution_count": 109,
   "id": "0a090145",
   "metadata": {
    "id": "0a090145"
   },
   "outputs": [],
   "source": [
    "def median(list_of_nums):\n",
    "    list_of_nums.sort()#sorted list to find median\n",
    "    if len(list_of_nums) % 2 !=0:   #odd length easy to find mid value \n",
    "        middle_index=int((len(list_of_nums)-1)/2)\n",
    "        return list_of_nums[middle_index]\n",
    "    elif len(list_of_nums) % 2 ==0:  #even length we need to carry 2 values to find median\n",
    "        middle_index_1=int(len(list_of_nums)/2)\n",
    "        middle_index_2=int((len(list_of_nums)/2)-1)#value nxt to middle_index_1 so we use minus 1 \n",
    "        return int( mean((list_of_nums[middle_index_1],list_of_nums[middle_index_2])))\n",
    "            \n",
    "        "
   ]
  },
  {
   "cell_type": "code",
   "execution_count": 110,
   "id": "zsPDITuiIhY7",
   "metadata": {
    "id": "zsPDITuiIhY7"
   },
   "outputs": [
    {
     "name": "stdout",
     "output_type": "stream",
     "text": [
      "Enter the list of numbers : 12 11 10 13 14 15\n",
      "12\n"
     ]
    }
   ],
   "source": [
    "x=list(map(int,input(\"Enter the list of numbers : \").split()))\n",
    "print(median(x))"
   ]
  },
  {
   "cell_type": "markdown",
   "id": "18a107c4",
   "metadata": {
    "id": "18a107c4"
   },
   "source": [
    "#### 2. Create a function that takes a list of numbers as input and returns the mean."
   ]
  },
  {
   "cell_type": "code",
   "execution_count": 108,
   "id": "Vy8v3p_hIgsc",
   "metadata": {
    "id": "Vy8v3p_hIgsc"
   },
   "outputs": [],
   "source": [
    "def mean(list_of_nums):\n",
    "    total=0\n",
    "    for i in list_of_nums: # we add all values in list\n",
    "        total+=i\n",
    "    return(total/len(list_of_nums)) # total and length will give mean"
   ]
  },
  {
   "cell_type": "code",
   "execution_count": 10,
   "id": "9533b14a",
   "metadata": {
    "id": "9533b14a"
   },
   "outputs": [
    {
     "name": "stdout",
     "output_type": "stream",
     "text": [
      "Enter the list of numbers : 60 50 70 80 40\n",
      "60.0\n"
     ]
    }
   ],
   "source": [
    "x=list(map(int,input(\"Enter the list of numbers : \").split()))\n",
    "print(mean(x))"
   ]
  },
  {
   "cell_type": "markdown",
   "id": "34df49cf",
   "metadata": {
    "id": "34df49cf"
   },
   "source": [
    "#### 3. Create a function that takes a list of numbers as input and returns the standard deviation."
   ]
  },
  {
   "cell_type": "code",
   "execution_count": 57,
   "id": "5a089785",
   "metadata": {
    "id": "5a089785"
   },
   "outputs": [
    {
     "name": "stdout",
     "output_type": "stream",
     "text": [
      "Enter the number : 70 85 98 98 117 139 147 169 190 220\n"
     ]
    },
    {
     "data": {
      "text/plain": [
       "46"
      ]
     },
     "execution_count": 57,
     "metadata": {},
     "output_type": "execute_result"
    }
   ],
   "source": [
    "def standard_deviation(nums):\n",
    "    total=0\n",
    "    for i in nums:\n",
    "        total=total+(i-mean(nums))**2 # we need to minus num from mean of that num and square it  \n",
    "    return (total/len(nums))**0.5 #take square root for total and length of nums\n",
    "\n",
    "x=list(map(int,input(\"Enter the number : \").split()))\n",
    "int(standard_deviation(x) )   "
   ]
  },
  {
   "cell_type": "markdown",
   "id": "9cc39352",
   "metadata": {
    "id": "9cc39352"
   },
   "source": [
    "#### 4. Create a function that takes a number as input and return True if the number is prime , False if not."
   ]
  },
  {
   "cell_type": "code",
   "execution_count": 31,
   "id": "722fc2fa",
   "metadata": {
    "id": "722fc2fa"
   },
   "outputs": [
    {
     "name": "stdout",
     "output_type": "stream",
     "text": [
      "False\n"
     ]
    }
   ],
   "source": [
    "def check_prime(num):\n",
    "    if num < 2 : #no < 1 is not prime so we need to take value upto 2 for compare \n",
    "        print(\"number is not prime\")\n",
    "    else:       # from 2 upto num we get from user\n",
    "        for i in range(2,num):\n",
    "            if num % 2==0:     # if its divisible by 2 ,than its not prime \n",
    "                print(\"False\")\n",
    "                break\n",
    "        else:   #not divisible mean its prime\n",
    "            print(\"True\")\n",
    "                \n",
    "check_prime(20)        "
   ]
  },
  {
   "cell_type": "markdown",
   "id": "4029f3a8",
   "metadata": {
    "id": "4029f3a8"
   },
   "source": [
    "#### 5. Create a function that takes a list of numbers as input and returns the variance."
   ]
  },
  {
   "cell_type": "code",
   "execution_count": 47,
   "id": "83d19248",
   "metadata": {
    "id": "83d19248"
   },
   "outputs": [
    {
     "name": "stdout",
     "output_type": "stream",
     "text": [
      "Enter the list of numbers : 70 85 98 98 117 139 147 169 190 220\n"
     ]
    },
    {
     "data": {
      "text/plain": [
       "2132"
      ]
     },
     "execution_count": 47,
     "metadata": {},
     "output_type": "execute_result"
    }
   ],
   "source": [
    "def variance(nums): \n",
    "    total=0\n",
    "    for i in nums:  # mean value of num is reduced from num and square it\n",
    "        total=total+(i-mean(nums))**2\n",
    "    return total/len(nums) #divide total by length and get variance\n",
    "    \n",
    "x=list(map(int,input(\"Enter the list of numbers : \").split()))\n",
    "int(variance(x))"
   ]
  },
  {
   "cell_type": "markdown",
   "id": "7acad1bf",
   "metadata": {
    "id": "7acad1bf"
   },
   "source": [
    "#### 6. Create a function that takes a number as input and returns the factorial."
   ]
  },
  {
   "cell_type": "code",
   "execution_count": 62,
   "id": "f7c0877a",
   "metadata": {
    "id": "f7c0877a"
   },
   "outputs": [
    {
     "name": "stdout",
     "output_type": "stream",
     "text": [
      "Enter the number : 5\n"
     ]
    },
    {
     "data": {
      "text/plain": [
       "120"
      ]
     },
     "execution_count": 62,
     "metadata": {},
     "output_type": "execute_result"
    }
   ],
   "source": [
    "def factorial(n):\n",
    "    fact=1    \n",
    "    for i in range(n,0,-1): #from n value to 0 ,like 5! we take value from 5 to 1 \n",
    "        fact*=i  #multiply 1 with i value and range from n to 1\n",
    "    return fact\n",
    "\n",
    "x=int(input(\"Enter the number : \"))\n",
    "factorial(x)"
   ]
  },
  {
   "cell_type": "markdown",
   "id": "b1e46b1f",
   "metadata": {
    "id": "b1e46b1f"
   },
   "source": [
    "#### 7. Create a function that takes two lists of same length as input and returns a list consisting of larger element at each position after comparing the corresponding elements in the given lists."
   ]
  },
  {
   "cell_type": "code",
   "execution_count": 48,
   "id": "bc428d22",
   "metadata": {
    "id": "bc428d22"
   },
   "outputs": [
    {
     "data": {
      "text/plain": [
       "[3, 4, 7]"
      ]
     },
     "execution_count": 48,
     "metadata": {},
     "output_type": "execute_result"
    }
   ],
   "source": [
    "def largest_num(l1,l2): #compare 2 values\n",
    "    if len(l1)!=len(l2):  #len of lists should be equal to compare\n",
    "        print(\"list should have same length\") \n",
    "    else:\n",
    "        temp=[]  # append in temp for larger index value in lists \n",
    "        for i in range(len(l1)):\n",
    "            if l1[i]>l2[i]: #if l1[i] index value larger means add l1[i]value \n",
    "                temp.append(l1[i])\n",
    "            else:    #orelse l2[i]value\n",
    "                temp.append(l2[i])\n",
    "        return temp\n",
    "largest_num([3,2,7],[2,4,5])"
   ]
  },
  {
   "cell_type": "markdown",
   "id": "f397889f",
   "metadata": {
    "id": "f397889f"
   },
   "source": [
    "#### 8. Create a function that takes a string and returns a string after joining the words that are having even lengths."
   ]
  },
  {
   "cell_type": "code",
   "execution_count": 102,
   "id": "ebf96e1c",
   "metadata": {
    "id": "ebf96e1c"
   },
   "outputs": [],
   "source": [
    "def even_string(s):    #even string\n",
    "    my_list=s.split()  #split string based on space  \n",
    "    word=[]  #empty list to add even len words\n",
    "    for i in my_list:   #iterate over my list\n",
    "        if len(i) % 2==0:  #len of iterator even take that alone\n",
    "            word.append(\"\".join(i))  #append even string into that empty list\n",
    "    return word"
   ]
  },
  {
   "cell_type": "code",
   "execution_count": 103,
   "id": "31fbac19",
   "metadata": {},
   "outputs": [
    {
     "data": {
      "text/plain": [
       "['good', 'with', 'soft', 'create', 'pleasant']"
      ]
     },
     "execution_count": 103,
     "metadata": {},
     "output_type": "execute_result"
    }
   ],
   "source": [
    "even_string(\"good day with soft start and smile create pleasant day\")"
   ]
  },
  {
   "cell_type": "markdown",
   "id": "36c6aae1",
   "metadata": {
    "id": "36c6aae1"
   },
   "source": [
    "#### 9. Create a function that takes a string and a character as input and returns a list after splitting the string based on the given character. By Default split based on whitespace. (Create a function similar to the inbuilt split function without using it)."
   ]
  },
  {
   "cell_type": "code",
   "execution_count": 106,
   "id": "869d7244",
   "metadata": {
    "id": "869d7244"
   },
   "outputs": [
    {
     "name": "stdout",
     "output_type": "stream",
     "text": [
      "Enter the string : Hello good morning and warm welcome\n"
     ]
    },
    {
     "data": {
      "text/plain": [
       "['Hello', 'good', 'morning', 'and', 'warm', 'welcome']"
      ]
     },
     "execution_count": 106,
     "metadata": {},
     "output_type": "execute_result"
    }
   ],
   "source": [
    "def split_string(s,c=\" \"):  #take string and charcter as parameter\n",
    "    word=[]  #empty word lists\n",
    "    start=0   # start variable for indexing from string\n",
    "    for i in range(len(s)):\n",
    "        if s[i]==c:  #if indexed value of string equal to character\n",
    "            word.append(s[start:i]) #append (index) value from 0 upto i \n",
    "            start=i+1 # next start from i+1 untill last value so use upto i+1\n",
    "    word.append(s[start:i+1])   \n",
    "    return word\n",
    "\n",
    "x=input(\"Enter the string : \")\n",
    "split_string(x)"
   ]
  },
  {
   "cell_type": "markdown",
   "id": "b8c01afd",
   "metadata": {
    "id": "b8c01afd"
   },
   "source": [
    "#### 10. Create a function which takes a 2-D list of shape m * n where m is number of elements in the original list and where each element is a list having n integers (A list of m lists having n numbers each, a matrix). The function returns the largest element in the given list."
   ]
  },
  {
   "cell_type": "code",
   "execution_count": 28,
   "id": "adda1366",
   "metadata": {
    "id": "adda1366"
   },
   "outputs": [
    {
     "data": {
      "text/plain": [
       "40"
      ]
     },
     "execution_count": 28,
     "metadata": {},
     "output_type": "execute_result"
    }
   ],
   "source": [
    "def largest2d(nums):\n",
    "    m=len(nums)  #row length \n",
    "    n=len(nums[0]) #col length\n",
    "    largest=nums[0][0] #largest value is 0 of 1st index row & col\n",
    "    for i in range(m):\n",
    "        for j in range(n):\n",
    "            if nums[i][j] >largest: #if nums great than largest then that value is taken \n",
    "                largest=nums[i][j]\n",
    "    return largest \n",
    "\n",
    "largest2d([[1,2,3],[25,30,40]])\n"
   ]
  },
  {
   "cell_type": "markdown",
   "id": "d2a2a668",
   "metadata": {
    "id": "d2a2a668"
   },
   "source": [
    "#### 11. Create a function which takes a 2-D list of shape m * n where m is number of elements in the original list and where each element is a list having n integers (A list of m lists having n numbers each). The function also takes a number x as input and returns True is x is in the given 2D list."
   ]
  },
  {
   "cell_type": "code",
   "execution_count": 84,
   "id": "585d5e4b",
   "metadata": {
    "id": "585d5e4b"
   },
   "outputs": [
    {
     "name": "stdout",
     "output_type": "stream",
     "text": [
      "Enter the number : 7\n",
      "False\n"
     ]
    }
   ],
   "source": [
    "def search2d(nums,x): #nums and user input as poarameters\n",
    "    m=len(nums) #row len\n",
    "    n=len(nums[0]) #col len\n",
    "    for i in range(m):\n",
    "        for j in range(n):\n",
    "            if nums[i][j]==x: #if nums equal to user input then return true \n",
    "                return (\"True\")\n",
    "                break   \n",
    "    else:\n",
    "        print(\"False\")\n",
    "x=int(input(\"Enter the number : \"))        \n",
    "search2d([[1,2,3],[4,5,6]],x) "
   ]
  },
  {
   "cell_type": "markdown",
   "id": "0d889f51",
   "metadata": {
    "id": "0d889f51"
   },
   "source": [
    "#### 12. Create a function which takes a 2-D list of shape m * n where m is number of elements in the original list and where each element is a list having n integers (A list of m lists having n numbers each). The function returns the sum of all rows in the matrix (2 D list)."
   ]
  },
  {
   "cell_type": "code",
   "execution_count": 7,
   "id": "56d82617",
   "metadata": {
    "id": "56d82617"
   },
   "outputs": [
    {
     "data": {
      "text/plain": [
       "123"
      ]
     },
     "execution_count": 7,
     "metadata": {},
     "output_type": "execute_result"
    }
   ],
   "source": [
    "def sum2d(nums):\n",
    "    m=len(nums) #len of row\n",
    "    n=len(nums[0]) #col length\n",
    "    result=0  \n",
    "    for i in range(m):\n",
    "        for j in range(n):\n",
    "            result=result+nums[i][j] # result will be added with row & col values\n",
    "    return result\n",
    "sum2d([[10,11,12],[20,30,40]])\n",
    "            "
   ]
  },
  {
   "cell_type": "markdown",
   "id": "f89438e1",
   "metadata": {
    "id": "f89438e1"
   },
   "source": [
    "#### 13. Create a function which takes a 2-D list of shape m * n where m is number of elements in the original list and where each element is a list having n integers (A list of m lists having n numbers each). The function also a takes a number x as input and returns a list of all consecutive pairs having sum eaqqual to x."
   ]
  },
  {
   "cell_type": "code",
   "execution_count": 20,
   "id": "c857dfcd",
   "metadata": {
    "id": "c857dfcd"
   },
   "outputs": [
    {
     "name": "stdout",
     "output_type": "stream",
     "text": [
      "2 1\n",
      "1 2\n",
      "2 1\n"
     ]
    }
   ],
   "source": [
    "def check_consecutive_sum(nums,num): # nums and user input as parameter\n",
    "    m=len(nums) #row len\n",
    "    n=len(nums[0]) #col length\n",
    "    for i in range(m):\n",
    "        for j in range(n-1):\n",
    "            if nums[i][j]+nums[i][j+1]==num: #when consecutive added sum equal to user input than return those value \n",
    "                print(nums[i][j],nums[i][j+1])\n",
    "    \n",
    "a_list=[[2,1,2,3,4,512,231,43],[22,2,1,13,41,512,2312,4352]]\n",
    "    \n",
    "check_consecutive_sum(a_list,3) "
   ]
  },
  {
   "cell_type": "markdown",
   "id": "976248d9",
   "metadata": {
    "id": "976248d9"
   },
   "source": [
    "#### 14. Create a function that takes a list and a number as input and returns True ifthe number is present in the list otherwise false using Binary search algorithm. (Read about Binary Search)."
   ]
  },
  {
   "cell_type": "code",
   "execution_count": 6,
   "id": "ef73c7cb",
   "metadata": {
    "id": "ef73c7cb"
   },
   "outputs": [
    {
     "name": "stdout",
     "output_type": "stream",
     "text": [
      "Number is not present in list\n"
     ]
    }
   ],
   "source": [
    "def binary_search(list,key): #list and key as parameter\n",
    "    low=0 #0 index as low\n",
    "    high=(len(list)-1) # last index as high\n",
    "    found=False #found value to compare\n",
    "    while low>=high and not found: #if value is true or low >=high then this cond follows\n",
    "        mid=(low+high)//2 \n",
    "        if key==list(mid): # key value equal to mid value then true\n",
    "            Found=True\n",
    "        elif key < list(mid): # if key value < mid, then high index been reduced from mid to one value\n",
    "            high=mid-1\n",
    "        else: #if key value > mid ,then low value increased from mid to one value\n",
    "            low =mid+1\n",
    "    if found==True:\n",
    "        print(\"Number is present in list\")\n",
    "    else:\n",
    "        print(\"Number is not present in list\")\n",
    "    \n",
    "    \n",
    "    \n",
    "binary_search([10,11,12,13,14,15,16,17,18,19,20],27)\n"
   ]
  },
  {
   "cell_type": "markdown",
   "id": "f12cc8c9",
   "metadata": {
    "id": "f12cc8c9"
   },
   "source": [
    "#### 15. Create a function which takes a txt filename as input and returns the number of words in that file."
   ]
  },
  {
   "cell_type": "code",
   "execution_count": 19,
   "id": "57b73a31",
   "metadata": {},
   "outputs": [],
   "source": [
    "outfile=open(\"file_1.txt\",'w') # create file_1 as write mode here \n",
    "outfile.write(\"Hello everyone\\n\")\n",
    "outfile.write(\"good morning\\n\")\n",
    "outfile.write(\"have a good day\\n\")\n",
    "outfile.close() #close file"
   ]
  },
  {
   "cell_type": "code",
   "execution_count": 24,
   "id": "dfe4d42b",
   "metadata": {},
   "outputs": [],
   "source": [
    "outfile=open(\"file_2.txt\",'w') #create file_2 as write mode here\n",
    "outfile.write(\"Sun rises in the east\\n\")\n",
    "outfile.write(\"Sun sets in west\\n\")\n",
    "outfile.write(\"oceans have gret flow of energy\\n\")\n",
    "outfile.close()"
   ]
  },
  {
   "cell_type": "code",
   "execution_count": 20,
   "id": "e2a1649e",
   "metadata": {},
   "outputs": [
    {
     "name": "stdout",
     "output_type": "stream",
     "text": [
      "Hello everyone\n",
      "good morning\n",
      "have a good day\n",
      "\n"
     ]
    }
   ],
   "source": [
    "infile=open(\"file_1.txt\",\"r\") #for others reference i created file here and open in read mode \n",
    "text=infile.read()\n",
    "print(text)\n",
    "infile.close()"
   ]
  },
  {
   "cell_type": "code",
   "execution_count": 21,
   "id": "46492494",
   "metadata": {
    "id": "46492494"
   },
   "outputs": [
    {
     "data": {
      "text/plain": [
       "8"
      ]
     },
     "execution_count": 21,
     "metadata": {},
     "output_type": "execute_result"
    }
   ],
   "source": [
    "def count_words_in_file(filename): #filename can be use while call function\n",
    "    with open(filename,\"r\")as f:\n",
    "        text=f.read() #use file name as f and read function \n",
    "        words=text.split() # split words to use length function\n",
    "    return len(words)\n",
    " \n",
    "\n",
    "count_words_in_file(\"file_1.txt\")"
   ]
  },
  {
   "cell_type": "markdown",
   "id": "b2666c95",
   "metadata": {
    "id": "b2666c95"
   },
   "source": [
    "#### 16. Create a function which takes a txt filename as input and returns the number of line in the file."
   ]
  },
  {
   "cell_type": "code",
   "execution_count": 23,
   "id": "5ff27d42",
   "metadata": {
    "id": "5ff27d42"
   },
   "outputs": [
    {
     "data": {
      "text/plain": [
       "3"
      ]
     },
     "execution_count": 23,
     "metadata": {},
     "output_type": "execute_result"
    }
   ],
   "source": [
    "def count_no_line(filename): # filename as parameter\n",
    "    with open(filename,\"r\")as f: #open filename as f in read mode\n",
    "        text=f.readlines() # readline to read all lines in file\n",
    "    return len(text) #find no of lines \n",
    "\n",
    "count_no_line(\"file_1.txt\")"
   ]
  },
  {
   "cell_type": "markdown",
   "id": "6722fb75",
   "metadata": {
    "id": "6722fb75"
   },
   "source": [
    "#### 17. Create a function that takes two txt filenames and returns a file after merging the cintents of two given files. (Print the merged content and then return the filename, content of original files should be unchanged)."
   ]
  },
  {
   "cell_type": "code",
   "execution_count": 113,
   "id": "86a4b436",
   "metadata": {
    "id": "86a4b436"
   },
   "outputs": [],
   "source": [
    "def merge_two_files(file1,file2):   #take 2 files\n",
    "    with open(file1,\"r\")as f1,open(file2,\"r\")as f2: #open file1 as f1 and file2 as f2\n",
    "        text1=f1.read() #read text from f1\n",
    "        text2=f2.read() #read text from f2\n",
    "        merge_text=text1+text2 #merge text1 and text2 for new file in merge.txt\n",
    "    merge_filename=\"merge_txt\"\n",
    "    with open(merge_filename,\"w\")as f: # open new file and use write mode to add merged text\n",
    "        f.write(merge_text) \n",
    "    print(merge_text)\n",
    "    return merge_filename"
   ]
  },
  {
   "cell_type": "code",
   "execution_count": 115,
   "id": "cdc82ee6",
   "metadata": {},
   "outputs": [
    {
     "name": "stdout",
     "output_type": "stream",
     "text": [
      "Hello everyone\n",
      "good morning\n",
      "have a good day\n",
      "Sun rises in the east\n",
      "Sun sets in west\n",
      "oceans have gret flow of energy\n",
      "\n"
     ]
    },
    {
     "data": {
      "text/plain": [
       "'merge_txt'"
      ]
     },
     "execution_count": 115,
     "metadata": {},
     "output_type": "execute_result"
    }
   ],
   "source": [
    "merge_two_files(\"file_1.txt\",\"file_2.txt\")"
   ]
  },
  {
   "cell_type": "markdown",
   "id": "faf26668",
   "metadata": {
    "id": "faf26668"
   },
   "source": [
    "#### 18. Write a program that takes a string as input and returns a list of all words having even length in that string (Using Map/Filter and Lambda expression)."
   ]
  },
  {
   "cell_type": "code",
   "execution_count": 9,
   "id": "955cd692",
   "metadata": {
    "id": "955cd692"
   },
   "outputs": [],
   "source": [
    "def even_len_words(s): \n",
    "    return len(s)%2 ==0"
   ]
  },
  {
   "cell_type": "code",
   "execution_count": 13,
   "id": "A1z_AdWcyKJi",
   "metadata": {
    "id": "A1z_AdWcyKJi"
   },
   "outputs": [
    {
     "data": {
      "text/plain": [
       "['What', 'is', 'your', 'name', 'name']"
      ]
     },
     "execution_count": 13,
     "metadata": {},
     "output_type": "execute_result"
    }
   ],
   "source": [
    " s=\"What is your name and his name\"\n",
    "list(filter(even_len_words,s.split()))#filter will return only even length words"
   ]
  },
  {
   "cell_type": "code",
   "execution_count": 16,
   "id": "39dc2bf7",
   "metadata": {},
   "outputs": [
    {
     "data": {
      "text/plain": [
       "['What', 'is', 'your', 'name', 'name']"
      ]
     },
     "execution_count": 16,
     "metadata": {},
     "output_type": "execute_result"
    }
   ],
   "source": [
    "list(filter(lambda word : len(word) % 2 ==0,s.split())) #with out call function ,we use lambda to return even length string"
   ]
  },
  {
   "cell_type": "code",
   "execution_count": null,
   "id": "7600c53e",
   "metadata": {},
   "outputs": [],
   "source": []
  }
 ],
 "metadata": {
  "colab": {
   "provenance": []
  },
  "kernelspec": {
   "display_name": "Python 3 (ipykernel)",
   "language": "python",
   "name": "python3"
  },
  "language_info": {
   "codemirror_mode": {
    "name": "ipython",
    "version": 3
   },
   "file_extension": ".py",
   "mimetype": "text/x-python",
   "name": "python",
   "nbconvert_exporter": "python",
   "pygments_lexer": "ipython3",
   "version": "3.11.4"
  }
 },
 "nbformat": 4,
 "nbformat_minor": 5
}
