{
 "cells": [
  {
   "cell_type": "markdown",
   "id": "d72f8ceb",
   "metadata": {
    "id": "d72f8ceb"
   },
   "source": [
    "# Assessment - 5 Gradable\n",
    "\n",
    "- Each question carries 5 or 4 marks\n",
    "- Marks will be assigned in terms of:\n",
    "    \n",
    "    **1. Expected output**\n",
    "    \n",
    "    **2. Quality and Explainability of code**\n",
    "\n",
    "    ***Go back through the script and type a comment above each line explaining in English what it does.***\n",
    "\n",
    "    **3. Copied code, if found, will result in 0 marks for that question. To avoid this make as much comments in the code to explain the approach**"
   ]
  },
  {
   "cell_type": "markdown",
   "id": "e5819cc0",
   "metadata": {
    "id": "e5819cc0"
   },
   "source": [
    "### 1. \n",
    "\n",
    "Create a function ``lets_find_88`` Given a list of ints, return True if the array contains a 8 next to a 8 somewhere.\n",
    "- lets_find_88([1, 8, 8]) → True\n",
    "- lets_find_88([1, 8, 1, 8]) → False\n",
    "- lets_find_88([8, 1, 8]) → False"
   ]
  },
  {
   "cell_type": "code",
   "execution_count": 12,
   "id": "88e3b5b4",
   "metadata": {
    "id": "88e3b5b4"
   },
   "outputs": [
    {
     "name": "stdout",
     "output_type": "stream",
     "text": [
      "False\n",
      "True\n"
     ]
    }
   ],
   "source": [
    "def lets_find_88(nums):\n",
    "    for i in range(len(nums)-1):\n",
    "        if nums[i]==8 and nums[i+1] == 8: # if adjacent nums are 8 then if condition applies and gives true\n",
    "            print(True)\n",
    "            break\n",
    "    else:  #else condition applies when ,if condition false  \n",
    "        print(False)\n",
    "        \n",
    "lets_find_88([1,2,8,1,8])\n",
    "lets_find_88([1,2,3,8,8])"
   ]
  },
  {
   "cell_type": "markdown",
   "id": "6b3f11fd",
   "metadata": {
    "id": "6b3f11fd"
   },
   "source": [
    "### 2. \n",
    "\n",
    "ANIMAL CRACKERS: Write a function takes a two-word string and returns True if both words begin with same letter and returns False if both words begin with different letter\n",
    "- animal_crackers('Levelheaded Lion') --> True\n",
    "- animal_crackers('Cute Kangaroo') --> False"
   ]
  },
  {
   "cell_type": "code",
   "execution_count": 36,
   "id": "15e45ae3",
   "metadata": {
    "id": "15e45ae3"
   },
   "outputs": [
    {
     "name": "stdout",
     "output_type": "stream",
     "text": [
      "True\n",
      "False\n"
     ]
    }
   ],
   "source": [
    "def animal_crackers(s):\n",
    "    word=s.split()\n",
    "    for i in s: # if first index and second index 1st letter are same means gives true\n",
    "        if word[0][0]==word[1][0]:\n",
    "            print(True)\n",
    "            break\n",
    "    else:  #if 1st letter not same means gives false\n",
    "        print(False)\n",
    "            \n",
    "animal_crackers(\"levelheaded lion\")\n",
    "animal_crackers(\"cute kangaroo\")"
   ]
  },
  {
   "cell_type": "markdown",
   "id": "42453e7d",
   "metadata": {
    "id": "42453e7d"
   },
   "source": [
    "### 3. \n",
    "\n",
    "Write a function ``how_many_primes`` that returns the number of prime numbers that exist up to and including a given number\n",
    "\n",
    "- how_many_primes(100) --> 25"
   ]
  },
  {
   "cell_type": "code",
   "execution_count": 72,
   "id": "b3302ec4",
   "metadata": {
    "id": "b3302ec4"
   },
   "outputs": [
    {
     "name": "stdout",
     "output_type": "stream",
     "text": [
      "2 3 5 7 \n",
      "Total =  4\n",
      "2 3 5 7 11 13 17 19 23 29 31 37 41 43 47 53 59 61 67 71 73 79 83 89 97 \n",
      "Total =  25\n"
     ]
    }
   ],
   "source": [
    "def how_many_primes(num):\n",
    "    count=0\n",
    "    for i in range(2,num+1): # num < 1 is not prime so take range from ( 2 to num)\n",
    "        if i>1:\n",
    "            for j in range(2,i):#2 to num\n",
    "                if i % j ==0: #if i divisible by j then not prime\n",
    "                    break \n",
    "            else:\n",
    "                count+=1 # if not divisble then increase count value by 1\n",
    "                print(i,end=\" \")\n",
    "        else: # if num <1 then print invalid num\n",
    "            print(\"Invalid number\")\n",
    "    print(\"\\nTotal = \",count)\n",
    "        \n",
    "how_many_primes(10)\n",
    "how_many_primes(100)\n",
    "        "
   ]
  },
  {
   "cell_type": "markdown",
   "id": "2b5f6f63",
   "metadata": {
    "id": "2b5f6f63"
   },
   "source": [
    "### 4. \n",
    "\n",
    "b = open(\"assignment.txt\")\n",
    "\n",
    "Consider the code given above and write the answers to the following :\n",
    "\n",
    "- Identify the name of the file : assignment.text\n",
    "- Identify the name of the function used above : open function() #open fun to open file\n",
    "- What is 'b' in above code : file object(variable)\n",
    "- The above statement will  ____open___assignment.txt_____ file in ______read_____ mode."
   ]
  },
  {
   "cell_type": "markdown",
   "id": "6c9eb680",
   "metadata": {
    "id": "6c9eb680"
   },
   "source": [
    "### 5.\n",
    "\n",
    "Accept five hobbies from the user and write in a file 'hobby.txt'. Then Read the file to list out all the 5 hobbies from the user."
   ]
  },
  {
   "cell_type": "code",
   "execution_count": 1,
   "id": "ef0a9e28",
   "metadata": {},
   "outputs": [
    {
     "name": "stdout",
     "output_type": "stream",
     "text": [
      "Enter five hobbies : outdoor\n",
      "Enter five hobbies : walking\n",
      "Enter five hobbies : puzzle\n",
      "Enter five hobbies : skipping\n",
      "Enter five hobbies : jumping\n"
     ]
    }
   ],
   "source": [
    "def write_to_hobbies(hobbies):#hobbies we get from user input\n",
    "    with open (\"hobby.txt\",\"w\") as f: #open file hobby in write mode \n",
    "        for i in range(5): # use loop to get 5 hobbies \n",
    "            hobbies=input(\"Enter five hobbies : \")\n",
    "            f.write(hobbies+\"\\n\") # and write that input into hobby.txt file\n",
    "write_to_hobbies(\"hobbies\")"
   ]
  },
  {
   "cell_type": "code",
   "execution_count": 28,
   "id": "d2ca912a",
   "metadata": {},
   "outputs": [],
   "source": [
    "def read_hobbies(filename):\n",
    "    with open(\"hobby.txt\",\"r\")as f: #open hobby in readmode\n",
    "        hobbies=f.readlines() #use readlines to read all lines \n",
    "        return hobbies"
   ]
  },
  {
   "cell_type": "code",
   "execution_count": 29,
   "id": "6915b2c6",
   "metadata": {},
   "outputs": [
    {
     "data": {
      "text/plain": [
       "['outdoor\\n', 'walking\\n', 'puzzle\\n', 'skipping\\n', 'jumping\\n']"
      ]
     },
     "execution_count": 29,
     "metadata": {},
     "output_type": "execute_result"
    }
   ],
   "source": [
    "read_hobbies(\"hobby.txt\") #call read function to read hobby file"
   ]
  },
  {
   "cell_type": "code",
   "execution_count": 15,
   "id": "b4623598",
   "metadata": {},
   "outputs": [
    {
     "name": "stdout",
     "output_type": "stream",
     "text": [
      "outdoor\n",
      "walking\n",
      "puzzle\n",
      "skipping\n",
      "jumping\n",
      "\n"
     ]
    }
   ],
   "source": [
    "with open(\"hobby.txt\",\"r\")as f: #open hobby in readmode # or simply we can read the file and print those text  in file\n",
    "        hobbies=f.read() #use readlines to read all lines \n",
    "        print (hobbies)"
   ]
  },
  {
   "cell_type": "code",
   "execution_count": null,
   "id": "106f0d8e",
   "metadata": {},
   "outputs": [],
   "source": []
  }
 ],
 "metadata": {
  "colab": {
   "provenance": []
  },
  "kernelspec": {
   "display_name": "Python 3 (ipykernel)",
   "language": "python",
   "name": "python3"
  },
  "language_info": {
   "codemirror_mode": {
    "name": "ipython",
    "version": 3
   },
   "file_extension": ".py",
   "mimetype": "text/x-python",
   "name": "python",
   "nbconvert_exporter": "python",
   "pygments_lexer": "ipython3",
   "version": "3.11.4"
  }
 },
 "nbformat": 4,
 "nbformat_minor": 5
}
