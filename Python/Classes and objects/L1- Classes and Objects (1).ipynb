{
 "cells": [
  {
   "cell_type": "markdown",
   "id": "8a30d880",
   "metadata": {
    "id": "8a30d880"
   },
   "source": [
    "# Assessment - 6 Gradable\n",
    "\n",
    "- Each question carries 5 or 4 marks\n",
    "- Marks will be assigned in terms of:\n",
    "    \n",
    "    **1. Expected output**\n",
    "    \n",
    "    **2. Quality and Explainability of code**\n",
    "\n",
    "    ***Go back through the script and type a comment above each line explaining in English what it does.***\n",
    "\n",
    "    **3. Copied code, if found, will result in 0 marks for that question. To avoid this make as much comments in the code to explain the approach**"
   ]
  },
  {
   "cell_type": "markdown",
   "id": "86255064",
   "metadata": {
    "id": "86255064"
   },
   "source": [
    "### 1. \n",
    "\n",
    "Write a Program to create a class 'Company' and using the class instance and print all the writable attributes of that object such as age, gender, salary, profession and designation. We take atleast 5 employees of an organization"
   ]
  },
  {
   "cell_type": "code",
   "execution_count": 2,
   "id": "4a098962",
   "metadata": {
    "id": "4a098962"
   },
   "outputs": [],
   "source": [
    "class company:#class created \n",
    "    def __init__ (self,age,gender,salary,profession,desg): #instantiating class  using constructor\n",
    "        self.age=age\n",
    "        self.gender=gender\n",
    "        self.salary=salary\n",
    "        self.profession=profession\n",
    "        self.desg=desg\n",
    "        \n",
    "    def show(self): #instantiating class here\n",
    "        print(\"The details are : \")\n",
    "        print(\"age         : \",self.age)\n",
    "        print(\"gender      : \",self.gender)\n",
    "        print(\"salary      : \",self.salary)\n",
    "        print(\"profession  : \",self.profession)\n",
    "        print(\"desg        : \",self.desg)"
   ]
  },
  {
   "cell_type": "code",
   "execution_count": 5,
   "id": "1c72c6b5",
   "metadata": {},
   "outputs": [],
   "source": [
    "employee1=company(21,'male',200000,'IT','Analyst') # creating object for class company \n",
    "employee2=company(20,'female',500000,'Finance','Financial Analyst')\n",
    "employee3=company(25,'male',300000,'IT','DATA Analyst')\n",
    "employee4=company(28,'female',100000,'Hr','Manager')\n",
    "employee5=company(22,'male',100000,'IT','Tean leader')"
   ]
  },
  {
   "cell_type": "code",
   "execution_count": 6,
   "id": "e402cbcf",
   "metadata": {},
   "outputs": [
    {
     "name": "stdout",
     "output_type": "stream",
     "text": [
      "The details are : \n",
      "age         :  21\n",
      "gender      :  male\n",
      "salary      :  200000\n",
      "profession  :  IT\n",
      "desg        :  Analyst\n"
     ]
    }
   ],
   "source": [
    "employee1.show() # instantiating object"
   ]
  },
  {
   "cell_type": "markdown",
   "id": "df5c6917",
   "metadata": {
    "id": "df5c6917"
   },
   "source": [
    "### 2. \n",
    "\n",
    "Write a program to store details of 6 customers in a text file with features of Unique Customer Id, Name, Location, Phone Number, Last Purchase Date for an ecommerce website that canbe considered for future records\n"
   ]
  },
  {
   "cell_type": "code",
   "execution_count": 40,
   "id": "6aaac08a",
   "metadata": {
    "id": "6aaac08a"
   },
   "outputs": [
    {
     "name": "stdout",
     "output_type": "stream",
     "text": [
      "Enter customer id : 1\n",
      "Enter name : Amar\n",
      "Enter location : Chennai\n",
      "Enter phone number : 99999999\n",
      "Enter purchase date : 1/1/2001\n",
      "Enter customer id : 2\n",
      "Enter name : Anitha\n",
      "Enter location : Bangalore\n",
      "Enter phone number : 99999992222\n",
      "Enter purchase date : 2/2/2001\n",
      "Enter customer id : 3\n",
      "Enter name : Asha\n",
      "Enter location : Shimla\n",
      "Enter phone number : 999333339\n",
      "Enter purchase date : 3/3/2001\n",
      "Enter customer id : 4\n",
      "Enter name : Abhay\n",
      "Enter location : Agra\n",
      "Enter phone number : 9999929292\n",
      "Enter purchase date : 3/3/2001\n",
      "Enter customer id : 5\n",
      "Enter name : Abhi\n",
      "Enter location : Srinagar\n",
      "Enter phone number : 99999333339\n",
      "Enter purchase date : 5/5/2001\n",
      "Enter customer id : 6\n",
      "Enter name : Adhi\n",
      "Enter location : Srinagar\n",
      "Enter phone number : 9999993339\n",
      "Enter purchase date : 3/3/2009\n"
     ]
    }
   ],
   "source": [
    "def customer_details(): #create class\n",
    "    customer_id=int(input(\"Enter customer id : \"))\n",
    "    name=input(\"Enter name : \")\n",
    "    location=input(\"Enter location : \")\n",
    "    phone_number=int(input(\"Enter phone number : \"))\n",
    "    last_purchase_date=input(\"Enter purchase date : \")\n",
    "    \n",
    "    return f\"{customer_id},{name},{location},{phone_number},{last_purchase_date}\\n\"\n",
    "def main(): #using constructor \n",
    "    with open(\"customer_details.txt\",\"w\")as f:\n",
    "        f.write(\"customer ID,Name,Location,Phone Number,Last purchase date\\n\")\n",
    "        \n",
    "        for i in range(6): #using iteration to store value\n",
    "            customer_information=customer_details()\n",
    "            f.write(\"customer_details\")\n",
    "    \n",
    "if __name__ == \"__main__\":\n",
    "    main()"
   ]
  },
  {
   "cell_type": "code",
   "execution_count": null,
   "id": "1f7cec3b",
   "metadata": {},
   "outputs": [],
   "source": []
  },
  {
   "cell_type": "markdown",
   "id": "51f22264",
   "metadata": {
    "id": "51f22264"
   },
   "source": [
    "### 3. \n",
    "\n",
    "Build a Simple Calculator using Exception Handling (try, except) that solves 4 arithmetic operations like Addition, Subtraction, Multiplication and Division.\n"
   ]
  },
  {
   "cell_type": "code",
   "execution_count": null,
   "id": "5b52eb5c",
   "metadata": {
    "id": "5b52eb5c"
   },
   "outputs": [
    {
     "name": "stdout",
     "output_type": "stream",
     "text": [
      "Enter first number: 12\n",
      "Enter second number: 0\n",
      "Enter the (+,-,*,/) : /\n",
      "Invalid equation\n",
      "float division by zero\n",
      "\n",
      " Tryagain\n",
      "Enter first number: 12\n",
      "Enter second number: 12\n",
      "Enter the (+,-,*,/) : ^\n",
      "Ans: Invalid operation\n",
      "Enter first number: 12\n",
      "Enter second number: 19\n",
      "Enter the (+,-,*,/) : *\n",
      "Ans: 228.0\n",
      "Enter first number: #\n",
      "Invalid number input\n",
      "\n",
      "could not convert string to float: '#'\n",
      "\n",
      " TRY AGAIN\n",
      "Enter first number: 3\n",
      "Enter second number: 4\n",
      "Enter the (+,-,*,/) : +\n",
      "Ans: 7.0\n",
      "Enter first number: 2\n",
      "Enter second number: 5\n",
      "Enter the (+,-,*,/) : -\n",
      "Ans: -3.0\n"
     ]
    }
   ],
   "source": [
    "def calculator(): #function for simple calculator\n",
    "    try: #if true try this\n",
    "        num1=float(input(\"Enter first number: \"))\n",
    "        num2=float(input(\"Enter second number: \"))\n",
    "    except ValueError as ERROR : #exception for some value error and return it\n",
    "        print(\"Invalid number input\\n\")\n",
    "        print(ERROR)\n",
    "        print(\"\\n TRY AGAIN\")\n",
    "        return\n",
    "    \n",
    "    opp=input(\"Enter the (+,-,*,/) : \") #use operation for calculate values\n",
    "    if opp ==\"+\": #+opp for add\n",
    "        ans=num1+num2\n",
    "    elif opp==\"-\": # -opp for subtract\n",
    "        ans=num1-num2\n",
    "    elif opp== \"*\": #*opp for multiply\n",
    "        ans=num1*num2\n",
    "    elif opp==\"/\": #/opp for divide\n",
    "        try:\n",
    "            ans=num1/num2\n",
    "        except ZeroDivisionError as ERROR: #use exception to consider zerodivisionerror\n",
    "            print(\"Invalid equation\")\n",
    "            print(ERROR)\n",
    "            print(\"\\n Tryagain\")\n",
    "            return\n",
    "    else:  #invalid operation to calculate only given opp\n",
    "        ans=\"Invalid operation\"\n",
    "    print(f\"Ans: {ans}\")\n",
    "    \n",
    "    \n",
    "while True:\n",
    "    calculator()"
   ]
  },
  {
   "cell_type": "code",
   "execution_count": null,
   "id": "3410bfcf",
   "metadata": {},
   "outputs": [],
   "source": [
    " "
   ]
  }
 ],
 "metadata": {
  "colab": {
   "provenance": []
  },
  "kernelspec": {
   "display_name": "Python 3 (ipykernel)",
   "language": "python",
   "name": "python3"
  },
  "language_info": {
   "codemirror_mode": {
    "name": "ipython",
    "version": 3
   },
   "file_extension": ".py",
   "mimetype": "text/x-python",
   "name": "python",
   "nbconvert_exporter": "python",
   "pygments_lexer": "ipython3",
   "version": "3.11.4"
  }
 },
 "nbformat": 4,
 "nbformat_minor": 5
}
