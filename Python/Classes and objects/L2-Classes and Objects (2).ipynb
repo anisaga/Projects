{
 "cells": [
  {
   "cell_type": "markdown",
   "id": "8bcc8778",
   "metadata": {},
   "source": [
    "#### Create the classes and functions as per following description: \n",
    "- Create a class Person : \n",
    "   - The attributes of the class are name, age, city\n",
    "   - The functions of the class are :\n",
    "       - __init__(self, name, age, city)\n",
    "       - show_details(self)\n",
    "       - update_city(self, new_city)\n",
    "       \n",
    "- Create a class Employee which inherits the class Person:\n",
    "    - The attributes of the class are name , age, city, salary, position, dept\n",
    "    - The functions of the class are : \n",
    "        - __init__(self, name , age, city, salary, position, dept)\n",
    "        - show_details(self)\n",
    "        - update_salary(self, new_salary)\n",
    "        - update_dept(self, new_dept)\n",
    "        - update_position(self, new_pos)\n",
    "        - inc_salary(self)\n",
    "        - dec_salary\n",
    "        \n",
    "- Make use of the super function when necessary\n",
    "- Create objects and Demonstrate working of all the functions"
   ]
  },
  {
   "cell_type": "code",
   "execution_count": 2,
   "id": "ef839681",
   "metadata": {},
   "outputs": [],
   "source": [
    "class person:\n",
    "    def __init__(self,name,age,city):# constructor for assigning values to class\n",
    "        self.name=name\n",
    "        self.age=age\n",
    "        self.city=city\n",
    "    def show(self): #constructor to be assigned\n",
    "        print(\"The details are : \")\n",
    "        print(\"Name=\",self.name)\n",
    "        print(\"Age=\", self.age)\n",
    "        print(\"city=\",self.city)\n",
    "    def update_city(self,new_city): #update new value\n",
    "        self.city=new_city\n",
    "        print(\"The city for {} has been updated to {}\".format(self.name,self.city))"
   ]
  },
  {
   "cell_type": "code",
   "execution_count": 7,
   "id": "7f470d97",
   "metadata": {},
   "outputs": [
    {
     "name": "stdout",
     "output_type": "stream",
     "text": [
      "The details are : \n",
      "Name= Anitha\n",
      "Age= 30\n",
      "city= Bangalore\n"
     ]
    }
   ],
   "source": [
    "person1=person(\"Anitha\",\"30\",\"Bangalore\") #Creating object\n",
    "person1.show() #instantiating object"
   ]
  },
  {
   "cell_type": "code",
   "execution_count": 8,
   "id": "0eb25baf",
   "metadata": {},
   "outputs": [
    {
     "name": "stdout",
     "output_type": "stream",
     "text": [
      "The city for Anitha has been updated to Hyderabad\n"
     ]
    }
   ],
   "source": [
    "person1.update_city(\"Hyderabad\")#update city"
   ]
  },
  {
   "cell_type": "code",
   "execution_count": 6,
   "id": "de283c65",
   "metadata": {},
   "outputs": [],
   "source": [
    "class employee(person): #creating child class employee\n",
    "    def __init__(self,name,age,city,salary,position,department):\n",
    "        super().__init__(name,age,city) #using super function to access parent class\n",
    "        self.salary=salary\n",
    "        self.position=position\n",
    "        self.department=department\n",
    "        \n",
    "    def show(self): #assigning constructor\n",
    "        print(\"The details are:\")\n",
    "        print(\"Name      : \",self.name)\n",
    "        print(\"Age       : \",self.age)\n",
    "        print(\"City      : \",self.city)\n",
    "        print(\"Salary    : \",self.salary)\n",
    "        print(\"Position  : \",self.position)\n",
    "        print(\"Department: \",self.department)\n",
    "        \n",
    "    def update_salary(self,new_salary): #update salary\n",
    "        self.salary=new_salary\n",
    "        print(\"The salary for {} has been updated to {}\".format(self.name,self.salary))\n",
    "    def update_position(self,new_position): #update position\n",
    "        self.position=new_position\n",
    "        print(\"The Position for {} has been updated to {}\".format(self.name,self.position))\n",
    "    def update_department(self,new_department): #update department\n",
    "        self.department=new_department\n",
    "        print(\"The Departmentfor {} has been updated to {}\".format(self.name,self.department))\n",
    "    def inc_salary(self,inc): #increment salary\n",
    "        self.salary *=(1+inc/100)\n",
    "        print(\"The salary for {} has been increased by {}%\".format(self.name,inc))\n",
    "        print(\"The New salary after raise is : \",self.salary)\n",
    "    def dec_salary(self,dec):  #decrement salary\n",
    "        self.salary *=(1-dec/100)\n",
    "        print(\"The salary for {} has been decreased by {}%\".format(self.name,dec))\n",
    "        print(\"The New salary after reduction is : \",self.salary)"
   ]
  },
  {
   "cell_type": "code",
   "execution_count": 7,
   "id": "01820314",
   "metadata": {},
   "outputs": [
    {
     "name": "stdout",
     "output_type": "stream",
     "text": [
      "The details are:\n",
      "Name      :  Anitha\n",
      "Age       :  30\n",
      "City      :  Hyderabad\n",
      "Salary    :  500000\n",
      "Position  :  Data scientist\n",
      "Department:  IT\n"
     ]
    }
   ],
   "source": [
    "Employee1=employee(\"Anitha\",30,\"Hyderabad\",500000,\"Data scientist\",\"IT\") #creating object \n",
    "Employee1.show() #instantiating object"
   ]
  },
  {
   "cell_type": "code",
   "execution_count": 8,
   "id": "d1247ee0",
   "metadata": {},
   "outputs": [
    {
     "name": "stdout",
     "output_type": "stream",
     "text": [
      "The salary for Anitha has been updated to 6000000\n"
     ]
    }
   ],
   "source": [
    "Employee1.update_salary(6000000) #update new salary"
   ]
  },
  {
   "cell_type": "code",
   "execution_count": 9,
   "id": "643fdfbd",
   "metadata": {},
   "outputs": [
    {
     "name": "stdout",
     "output_type": "stream",
     "text": [
      "The Position for Anitha has been updated to Senior Manager\n"
     ]
    }
   ],
   "source": [
    "Employee1.update_position(\"Senior Manager\") #update new position"
   ]
  },
  {
   "cell_type": "code",
   "execution_count": 10,
   "id": "5a632ad7",
   "metadata": {},
   "outputs": [
    {
     "name": "stdout",
     "output_type": "stream",
     "text": [
      "The Departmentfor Anitha has been updated to HR\n"
     ]
    }
   ],
   "source": [
    "Employee1.update_department(\"HR\") #update new department"
   ]
  },
  {
   "cell_type": "code",
   "execution_count": 11,
   "id": "4f725912",
   "metadata": {},
   "outputs": [
    {
     "name": "stdout",
     "output_type": "stream",
     "text": [
      "The salary for Anitha has been increased by 10%\n",
      "The New salary after raise is :  6600000.000000001\n"
     ]
    }
   ],
   "source": [
    "Employee1.inc_salary(10) #update new salary increased"
   ]
  },
  {
   "cell_type": "code",
   "execution_count": 13,
   "id": "9cbc4afc",
   "metadata": {},
   "outputs": [
    {
     "name": "stdout",
     "output_type": "stream",
     "text": [
      "The salary for Anitha has been decreased by 2%\n",
      "The New salary after reduction is :  6338640.000000001\n"
     ]
    }
   ],
   "source": [
    "Employee1.dec_salary(2) #update salary decreased"
   ]
  },
  {
   "cell_type": "code",
   "execution_count": null,
   "id": "69e6c8d9",
   "metadata": {},
   "outputs": [],
   "source": []
  }
 ],
 "metadata": {
  "kernelspec": {
   "display_name": "Python 3 (ipykernel)",
   "language": "python",
   "name": "python3"
  },
  "language_info": {
   "codemirror_mode": {
    "name": "ipython",
    "version": 3
   },
   "file_extension": ".py",
   "mimetype": "text/x-python",
   "name": "python",
   "nbconvert_exporter": "python",
   "pygments_lexer": "ipython3",
   "version": "3.11.4"
  }
 },
 "nbformat": 4,
 "nbformat_minor": 5
}
