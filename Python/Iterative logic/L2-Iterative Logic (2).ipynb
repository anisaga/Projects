{
 "cells": [
  {
   "cell_type": "markdown",
   "id": "b462dadb",
   "metadata": {
    "id": "b462dadb"
   },
   "source": [
    "# Iterative Statements\n",
    "- Write solution of each question in the cell given below the corresponsing question."
   ]
  },
  {
   "cell_type": "markdown",
   "id": "f5aefe41",
   "metadata": {
    "id": "f5aefe41"
   },
   "source": [
    "#### 1. Tom and Bob are playing a game of dice. Each time a multiple of two comes up Tom gets a point and if a multiple of 3 comes up bob gets a point. If a multiple of both comes up then a point is deducted from both. Write a program to take a list as input consisting of 10 outcomes of the dice throw. Print the scores of both Tom and bob and the winner."
   ]
  },
  {
   "cell_type": "code",
   "execution_count": 3,
   "id": "WzFaY9Pk53Pl",
   "metadata": {
    "id": "WzFaY9Pk53Pl"
   },
   "outputs": [
    {
     "name": "stdout",
     "output_type": "stream",
     "text": [
      "Enter the 10 outcome of dice thrown1 2 3 4 5 6 6 5 4 3\n",
      "Tom has scored 1 points \n",
      "Bob has scored 0 points \n",
      "The winner is Tom with 1 scores \n"
     ]
    }
   ],
   "source": [
    "outcomes=list(map(int,input(\"Enter the 10 outcome of dice thrown\").split()))\n",
    "tom_score=0   #take value 0 for tom\n",
    "bob_score=0   #take value 0 for bob\n",
    "\n",
    "for i in outcomes:\n",
    "    if i % 2==0 and i % 3==0:     #both multiple of 2 and 3 point is deducted from both\n",
    "        tom_score-=1\n",
    "        bob_score-=1\n",
    "    elif i % 2==0:               #number divisible by 2 tom gets a point\n",
    "        tom_score+=1\n",
    "    elif i % 3==0:               #number divisible by 3 bob gets a point\n",
    "        bob_score+=1\n",
    "print(\"Tom has scored {} points \".format(tom_score))  \n",
    "print(\"Bob has scored {} points \".format(bob_score))\n",
    "\n",
    "if tom_score>bob_score:           #if tom score value is more ,he is winner or bob is winner\n",
    "    print(\"The winner is Tom with {} scores \".format(tom_score))\n",
    "else:\n",
    "    print(\"The winner is Bob with {} scores \".format(bob_score))"
   ]
  },
  {
   "cell_type": "markdown",
   "id": "57ec6a53",
   "metadata": {
    "id": "57ec6a53"
   },
   "source": [
    "##### 2. Write a program to take a list of 10 numbers as input in single line and find out the largest element."
   ]
  },
  {
   "cell_type": "code",
   "execution_count": 12,
   "id": "scLsG4fkSyUu",
   "metadata": {
    "id": "scLsG4fkSyUu"
   },
   "outputs": [
    {
     "name": "stdout",
     "output_type": "stream",
     "text": [
      "Enter the 10 numbers(seperated by space) : 1 2 3 4 5 6 2 7 8 9\n",
      "The largest element is :  9\n"
     ]
    }
   ],
   "source": [
    "#take input from user\n",
    "num=list(map(int,input(\"Enter the 10 numbers(seperated by space) : \").split()))\n",
    "largest=num[0]    #iterate over largest element from num\n",
    "for i in num:\n",
    "    if i > largest:   #largest num was compared  \n",
    "        largest=i\n",
    "print(\"The largest element is : \",i)"
   ]
  },
  {
   "cell_type": "markdown",
   "id": "ee2cce37",
   "metadata": {
    "id": "ee2cce37"
   },
   "source": [
    "#### 3. Write a program to take a number as input and find out whether it is prime or not."
   ]
  },
  {
   "cell_type": "code",
   "execution_count": 19,
   "id": "td2eirqTZCiE",
   "metadata": {
    "id": "td2eirqTZCiE"
   },
   "outputs": [
    {
     "name": "stdout",
     "output_type": "stream",
     "text": [
      "Enter the number: 7\n",
      "Number is prime\n"
     ]
    }
   ],
   "source": [
    "num=int(input(\"Enter the number: \"))     #input from user\n",
    "if num < 2:     # <=1 values are not prime \n",
    "    print(\"Number is not prime\")\n",
    "else:            # square root of the number will help check divisiblity of num\n",
    "    for i in range (2,int(num**0.5)+1):\n",
    "        if num % i==0:     #prime number is not divisible by any no \n",
    "            print(\"Number is not prime\")\n",
    "            break\n",
    "    else:                 #if no divisible by 1 and itself then its prime\n",
    "        print(\"Number is prime\")"
   ]
  },
  {
   "cell_type": "markdown",
   "id": "07d5a484",
   "metadata": {
    "id": "07d5a484"
   },
   "source": [
    "#### 4. Take a list and a number as input, print all consecutive pairs of two numbers from the list having sum equal to the given number."
   ]
  },
  {
   "cell_type": "code",
   "execution_count": 4,
   "id": "e3acd75f",
   "metadata": {
    "id": "e3acd75f"
   },
   "outputs": [
    {
     "name": "stdout",
     "output_type": "stream",
     "text": [
      "Enter the number : 9\n",
      "consecutive pair present in list is :  5 4\n",
      "consecutive pair present in list is :  6 3\n",
      "consecutive pair present in list is :  2 7\n",
      "consecutive pair present in list is :  7 2\n",
      "consecutive pair present in list is :  8 1\n"
     ]
    }
   ],
   "source": [
    "nums=[1,2,3,5,4,1,6,3,2,7,2,8,1,9]          \n",
    "num=int(input(\"Enter the number : \"))   # input from user\n",
    "for i in range(len(nums)-1):    \n",
    "    if nums[i]+nums[i+1] ==num:   #if sum of consecutive number is equal to num\n",
    "        print(\"consecutive pair present in list is : \",nums[i],nums[i+1])   #print all pairs "
   ]
  },
  {
   "cell_type": "markdown",
   "id": "d2bc68d1",
   "metadata": {
    "id": "d2bc68d1"
   },
   "source": [
    "#### 5. Take a string as input and find out the number of words with even length and number of words with odd length."
   ]
  },
  {
   "cell_type": "code",
   "execution_count": 26,
   "id": "P1HffxgLZk6C",
   "metadata": {
    "id": "P1HffxgLZk6C"
   },
   "outputs": [
    {
     "name": "stdout",
     "output_type": "stream",
     "text": [
      "Enter the string: Hello good morning\n",
      "Words with odd length :  2\n",
      "Words with even length :  1\n"
     ]
    }
   ],
   "source": [
    "s=input(\"Enter the string: \")  #input from user\n",
    "words=s.split()   #split words\n",
    "odd=0  #odd value\n",
    "even=0 #even value \n",
    "for i in words: \n",
    "    if len(i) % 2==0:   #len of word divisible by 2 is even words\n",
    "        even+=1\n",
    "    else:               # else length is divisible by 3 is odd words\n",
    "        odd+=1\n",
    "print(\"Words with odd length : \",odd)\n",
    "print(\"Words with even length : \",even)"
   ]
  },
  {
   "cell_type": "markdown",
   "id": "9bc04f36",
   "metadata": {
    "id": "9bc04f36"
   },
   "source": [
    "#### 6. Write a program to sort a given list using selection sort algorithm. (study selection sort and implement)"
   ]
  },
  {
   "cell_type": "code",
   "execution_count": 7,
   "id": "3abb8c1e",
   "metadata": {
    "id": "3abb8c1e"
   },
   "outputs": [
    {
     "name": "stdout",
     "output_type": "stream",
     "text": [
      "[1, 5, 3, 2, 4, 7, 9]\n",
      "[1, 2, 5, 3, 4, 7, 9]\n",
      "[1, 2, 3, 5, 4, 7, 9]\n",
      "[1, 2, 3, 4, 5, 7, 9]\n",
      "[1, 2, 3, 4, 5, 7, 9]\n",
      "[1, 2, 3, 4, 5, 7, 9]\n",
      "After sorting :  [1, 2, 3, 4, 5, 7, 9]\n"
     ]
    }
   ],
   "source": [
    "nums=[3,5,1,2,4,7,9]\n",
    "for i in range(len(nums)-1):  #compare the string length untill last and reduce last num\n",
    "    for j in range(i+1,len(nums)):\n",
    "        if nums[j]<nums[i]:    #compare minimum value \n",
    "            nums[i],nums[j]=nums[j],nums[i] # then swap the value\n",
    "    print(nums)  # to know sorted list\n",
    "    \n",
    "print(\"After sorting : \",nums) #after sort"
   ]
  },
  {
   "cell_type": "markdown",
   "id": "d2cf1bab",
   "metadata": {
    "id": "d2cf1bab"
   },
   "source": [
    "#### 7. Write a program to sort a given list using bubble sort algorithm. (Study bubble sort and implement)"
   ]
  },
  {
   "cell_type": "code",
   "execution_count": 6,
   "id": "OJAUtZLmyvMk",
   "metadata": {
    "id": "OJAUtZLmyvMk"
   },
   "outputs": [
    {
     "name": "stdout",
     "output_type": "stream",
     "text": [
      "[20, 30, 10, 40, 60]\n",
      "[20, 10, 30, 40, 60]\n",
      "[10, 20, 30, 40, 60]\n",
      "[10, 20, 30, 40, 60]\n",
      "bubble sort list:  [10, 20, 30, 40, 60]\n"
     ]
    }
   ],
   "source": [
    "nums=[20,40,30,10,60]       \n",
    "for i in range(len(nums)-1):      #from row range,len of nums to compare so reduce last digit\n",
    "    for j in range (len(nums)-1):    #column range from len(nums)till last number\n",
    "        if nums[j]>nums[j+1]:    #compre minimumvalue with next value\n",
    "            nums[j],nums[j+1]=nums[j+1],nums[j]\n",
    "    print(nums)\n",
    "print(\"bubble sort list: \",nums) "
   ]
  },
  {
   "cell_type": "markdown",
   "id": "1910df79",
   "metadata": {
    "id": "1910df79"
   },
   "source": [
    "#### 8. Take a string and a word and input. Find the frequenecy of occurrence of the word in the given string. (Without using any inbuilt function)"
   ]
  },
  {
   "cell_type": "code",
   "execution_count": 34,
   "id": "c50d4a3c",
   "metadata": {
    "id": "c50d4a3c"
   },
   "outputs": [
    {
     "name": "stdout",
     "output_type": "stream",
     "text": [
      "Enter the string: Hello good morning and good day\n",
      "Enter the word : good\n",
      "Frequency of occurence of words :  2\n"
     ]
    }
   ],
   "source": [
    "s=input(\"Enter the string: \")         \n",
    "word=input(\"Enter the word : \")\n",
    "count=0      #count variable to count words \n",
    "for i in s.split(): \n",
    "    if i==word:  #if word equals to s string\n",
    "        count+=1   #increase value of count\n",
    "print(\"Frequency of occurence of words : \",count)  "
   ]
  },
  {
   "cell_type": "markdown",
   "id": "b05f15de",
   "metadata": {
    "id": "b05f15de"
   },
   "source": [
    "#### 9. Write a program to print the following pattern: "
   ]
  },
  {
   "cell_type": "code",
   "execution_count": null,
   "id": "5113af76",
   "metadata": {
    "colab": {
     "base_uri": "https://localhost:8080/"
    },
    "executionInfo": {
     "elapsed": 547,
     "status": "ok",
     "timestamp": 1676753746046,
     "user": {
      "displayName": "Malathi V",
      "userId": "05981803588813056384"
     },
     "user_tz": -330
    },
    "id": "5113af76",
    "outputId": "c86dd0d3-1a32-4fef-818e-852f636f919a"
   },
   "outputs": [
    {
     "name": "stdout",
     "output_type": "stream",
     "text": [
      "\n"
     ]
    }
   ],
   "source": [
    "'''\n",
    "5 4 3 2 1\n",
    "  4 3 2 1\n",
    "    3 2 1\n",
    "      2 1\n",
    "        1\n",
    "'''\n",
    "print()"
   ]
  },
  {
   "cell_type": "code",
   "execution_count": 1,
   "id": "j7lsHqTI1-ZY",
   "metadata": {
    "id": "j7lsHqTI1-ZY"
   },
   "outputs": [
    {
     "name": "stdout",
     "output_type": "stream",
     "text": [
      "Enter the n rows : 5\n",
      "5 4 3 2 1 \n",
      "  4 3 2 1 \n",
      "    3 2 1 \n",
      "      2 1 \n",
      "        1 \n"
     ]
    }
   ],
   "source": [
    "n=int(input(\"Enter the n rows : \"))   #input from user\n",
    "for i in range(n):         \n",
    "    for j in range(i):      #print space left side to row\n",
    "        print(\" \",end=\" \")\n",
    "    for j in range(n-i,0,-1):  #from range 5 to 1 index from -1index\n",
    "        print(j,end=\" \")        #print j index\n",
    "    print()"
   ]
  },
  {
   "cell_type": "markdown",
   "id": "279b94c8",
   "metadata": {
    "id": "279b94c8"
   },
   "source": [
    "#### 10. Write a program to print the following pattern:"
   ]
  },
  {
   "cell_type": "code",
   "execution_count": null,
   "id": "af2c05e5",
   "metadata": {
    "colab": {
     "base_uri": "https://localhost:8080/"
    },
    "executionInfo": {
     "elapsed": 513,
     "status": "ok",
     "timestamp": 1676753758009,
     "user": {
      "displayName": "Malathi V",
      "userId": "05981803588813056384"
     },
     "user_tz": -330
    },
    "id": "af2c05e5",
    "outputId": "a05270a6-9f54-461e-a195-d46c556e048d"
   },
   "outputs": [
    {
     "name": "stdout",
     "output_type": "stream",
     "text": [
      "\n"
     ]
    }
   ],
   "source": [
    "'''\n",
    "5 4 3 2 1\n",
    "4 3 2 1\n",
    "3 2 1\n",
    "2 1\n",
    "1\n",
    "'''\n",
    "print()"
   ]
  },
  {
   "cell_type": "code",
   "execution_count": 2,
   "id": "a6502c4f",
   "metadata": {
    "id": "a6502c4f"
   },
   "outputs": [
    {
     "name": "stdout",
     "output_type": "stream",
     "text": [
      "Enter the n rows : 5\n",
      "5 4 3 2 1 \n",
      "4 3 2 1 \n",
      "3 2 1 \n",
      "2 1 \n",
      "1 \n"
     ]
    }
   ],
   "source": [
    "n=int(input(\"Enter the n rows : \"))   #take input from user\n",
    "for i in range(n):                     \n",
    "    for j in range(n-i,0,-1):         #from 5 to 1 index from -1 range\n",
    "        print(j,end=\" \")              #print j            \n",
    "    print()             "
   ]
  },
  {
   "cell_type": "code",
   "execution_count": null,
   "id": "0974d783",
   "metadata": {},
   "outputs": [],
   "source": []
  }
 ],
 "metadata": {
  "colab": {
   "provenance": []
  },
  "kernelspec": {
   "display_name": "Python 3 (ipykernel)",
   "language": "python",
   "name": "python3"
  },
  "language_info": {
   "codemirror_mode": {
    "name": "ipython",
    "version": 3
   },
   "file_extension": ".py",
   "mimetype": "text/x-python",
   "name": "python",
   "nbconvert_exporter": "python",
   "pygments_lexer": "ipython3",
   "version": "3.11.4"
  }
 },
 "nbformat": 4,
 "nbformat_minor": 5
}
