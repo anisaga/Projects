{
 "cells": [
  {
   "cell_type": "code",
   "execution_count": 1,
   "id": "ffcb78a4",
   "metadata": {},
   "outputs": [],
   "source": [
    "import mysql.connector #import mysql for use "
   ]
  },
  {
   "cell_type": "code",
   "execution_count": 2,
   "id": "3efa729a",
   "metadata": {},
   "outputs": [],
   "source": [
    "mydb=mysql.connector.connect(host='localhost',   #make connection\n",
    "                             user='root',\n",
    "                             password='1234',\n",
    "                             database='assign1')"
   ]
  },
  {
   "cell_type": "code",
   "execution_count": 3,
   "id": "defb35b9",
   "metadata": {},
   "outputs": [],
   "source": [
    "mycursor=mydb.cursor() #create cursor"
   ]
  },
  {
   "cell_type": "code",
   "execution_count": 4,
   "id": "396018d1",
   "metadata": {},
   "outputs": [],
   "source": [
    "mycursor.execute(\"SHOW TABLES\") #execute query"
   ]
  },
  {
   "cell_type": "code",
   "execution_count": 5,
   "id": "22e80e46",
   "metadata": {},
   "outputs": [
    {
     "data": {
      "text/plain": [
       "[('department',), ('employee',)]"
      ]
     },
     "execution_count": 5,
     "metadata": {},
     "output_type": "execute_result"
    }
   ],
   "source": [
    "list(mycursor) #table in database"
   ]
  },
  {
   "cell_type": "code",
   "execution_count": 6,
   "id": "dbc050e0",
   "metadata": {},
   "outputs": [],
   "source": [
    "query='''INSERT INTO employee(emp_id,f_name,l_name,age,gender,salary,city,dept)   \n",
    "         VALUES(%s,%s,%s,%s,%s,%s,%s,%s)'''   # insert values\n",
    "val=(101,'Asha','john',21,'Female',100000,'Bangalore','IT')\n",
    "mycursor.execute(query,val)"
   ]
  },
  {
   "cell_type": "code",
   "execution_count": 7,
   "id": "4f4a2263",
   "metadata": {},
   "outputs": [
    {
     "data": {
      "text/plain": [
       "[(101, 'Asha', 'john', 21, 'Female', 100000, 'Bangalore', 'IT')]"
      ]
     },
     "execution_count": 7,
     "metadata": {},
     "output_type": "execute_result"
    }
   ],
   "source": [
    "mycursor.execute(\"SELECT * FROM employee\") # get values from table\n",
    "list(mycursor)"
   ]
  },
  {
   "cell_type": "code",
   "execution_count": 8,
   "id": "d55b67a5",
   "metadata": {},
   "outputs": [],
   "source": [
    "query='''INSERT INTO employee(emp_id,f_name,l_name,age,gender,salary,city,dept)\n",
    "         VALUES(%s,%s,%s,%s,%s,%s,%s,%s)'''  #insertmany values into table\n",
    "val=[(102,'Ash','john',22,'male',100000,'surat','IT'),\n",
    "     (103,'Aish','john',23,'female',200000,'Bangalore','HR'),\n",
    "     (104,'Ashi','johann',28,'male',500000,'Kolkata','Finance'),\n",
    "     (105,'Akshay','menon',32,'male',100000,'pune','marketing'),\n",
    "     (106,'Akash','sune',29,'male',100000,'chennai','IT'),\n",
    "     (107,'pooja','kumar',25,'female',100000,'Bangalore','Banking'),\n",
    "     (108,'sagar','raju',35,'male',200000,'Bangalore','finance')]\n",
    "mycursor.executemany(query,val)"
   ]
  },
  {
   "cell_type": "code",
   "execution_count": 9,
   "id": "1f765db0",
   "metadata": {},
   "outputs": [
    {
     "name": "stdout",
     "output_type": "stream",
     "text": [
      "(101, 'Asha', 'john', 21, 'Female', 100000, 'Bangalore', 'IT')\n",
      "(102, 'Ash', 'john', 22, 'male', 100000, 'surat', 'IT')\n",
      "(103, 'Aish', 'john', 23, 'female', 200000, 'Bangalore', 'HR')\n",
      "(104, 'Ashi', 'johann', 28, 'male', 500000, 'Kolkata', 'Finance')\n",
      "(105, 'Akshay', 'menon', 32, 'male', 100000, 'pune', 'marketing')\n",
      "(106, 'Akash', 'sune', 29, 'male', 100000, 'chennai', 'IT')\n",
      "(107, 'pooja', 'kumar', 25, 'female', 100000, 'Bangalore', 'Banking')\n",
      "(108, 'sagar', 'raju', 35, 'male', 200000, 'Bangalore', 'finance')\n"
     ]
    }
   ],
   "source": [
    "mycursor.execute(\"SELECT * FROM employee\")  #get values from table\n",
    "for row in mycursor:\n",
    "    print(row)\n"
   ]
  },
  {
   "cell_type": "code",
   "execution_count": 10,
   "id": "e4a11294",
   "metadata": {},
   "outputs": [],
   "source": [
    "query='''UPDATE employee\n",
    "         SET city='Hyderabad'\n",
    "         WHERE f_name='sagar' and l_name='raju' '''  #update value in table\n",
    "mycursor.execute(query)"
   ]
  },
  {
   "cell_type": "code",
   "execution_count": 11,
   "id": "c7bd9a5f",
   "metadata": {},
   "outputs": [
    {
     "name": "stdout",
     "output_type": "stream",
     "text": [
      "(101, 'Asha', 'john', 21, 'Female', 100000, 'Bangalore', 'IT')\n",
      "(102, 'Ash', 'john', 22, 'male', 100000, 'surat', 'IT')\n",
      "(103, 'Aish', 'john', 23, 'female', 200000, 'Bangalore', 'HR')\n",
      "(104, 'Ashi', 'johann', 28, 'male', 500000, 'Kolkata', 'Finance')\n",
      "(105, 'Akshay', 'menon', 32, 'male', 100000, 'pune', 'marketing')\n",
      "(106, 'Akash', 'sune', 29, 'male', 100000, 'chennai', 'IT')\n",
      "(107, 'pooja', 'kumar', 25, 'female', 100000, 'Bangalore', 'Banking')\n",
      "(108, 'sagar', 'raju', 35, 'male', 200000, 'Hyderabad', 'finance')\n"
     ]
    }
   ],
   "source": [
    "mycursor.execute(\"SELECT * FROM employee\")  #get values from table and check updated value\n",
    "for row in mycursor:\n",
    "    print(row)"
   ]
  },
  {
   "cell_type": "code",
   "execution_count": 13,
   "id": "e7c377db",
   "metadata": {},
   "outputs": [],
   "source": [
    "query='''UPDATE employee\n",
    "         SET city='kanpur',l_name='hegde'\n",
    "         WHERE f_name='pooja' '''  #update value \n",
    "mycursor.execute(query)"
   ]
  },
  {
   "cell_type": "code",
   "execution_count": 14,
   "id": "39824524",
   "metadata": {},
   "outputs": [
    {
     "name": "stdout",
     "output_type": "stream",
     "text": [
      "(101, 'Asha', 'john', 21, 'Female', 100000, 'Bangalore', 'IT')\n",
      "(102, 'Ash', 'john', 22, 'male', 100000, 'surat', 'IT')\n",
      "(103, 'Aish', 'john', 23, 'female', 200000, 'Bangalore', 'HR')\n",
      "(104, 'Ashi', 'johann', 28, 'male', 500000, 'Kolkata', 'Finance')\n",
      "(105, 'Akshay', 'menon', 32, 'male', 100000, 'pune', 'marketing')\n",
      "(106, 'Akash', 'sune', 29, 'male', 100000, 'chennai', 'IT')\n",
      "(107, 'pooja', 'hegde', 25, 'female', 100000, 'kanpur', 'Banking')\n",
      "(108, 'sagar', 'raju', 35, 'male', 200000, 'Hyderabad', 'finance')\n"
     ]
    }
   ],
   "source": [
    "mycursor.execute(\"SELECT * FROM employee\")  #check updated value\n",
    "for row in mycursor:\n",
    "    print(row)"
   ]
  },
  {
   "cell_type": "code",
   "execution_count": 19,
   "id": "3734a80a",
   "metadata": {},
   "outputs": [],
   "source": [
    "mycursor.execute(\"DELETE FROM employee WHERE f_name='aish'\")  #delete row from table"
   ]
  },
  {
   "cell_type": "code",
   "execution_count": 20,
   "id": "0ead3db4",
   "metadata": {},
   "outputs": [
    {
     "name": "stdout",
     "output_type": "stream",
     "text": [
      "(101, 'Asha', 'john', 21, 'Female', 100000, 'Bangalore', 'IT')\n",
      "(102, 'Ash', 'john', 22, 'male', 100000, 'surat', 'IT')\n",
      "(104, 'Ashi', 'johann', 28, 'male', 500000, 'Kolkata', 'Finance')\n",
      "(105, 'Akshay', 'menon', 32, 'male', 100000, 'pune', 'marketing')\n",
      "(106, 'Akash', 'sune', 29, 'male', 100000, 'chennai', 'IT')\n",
      "(107, 'pooja', 'hegde', 25, 'female', 100000, 'kanpur', 'Banking')\n",
      "(108, 'sagar', 'raju', 35, 'male', 200000, 'Hyderabad', 'finance')\n"
     ]
    }
   ],
   "source": [
    "mycursor.execute(\"SELECT * FROM employee\") #check whether row is deleted\n",
    "for row in mycursor:\n",
    "    print(row)"
   ]
  },
  {
   "cell_type": "code",
   "execution_count": 21,
   "id": "5d37725a",
   "metadata": {},
   "outputs": [],
   "source": [
    "mydb.commit() #close connection\n",
    "mydb.close()"
   ]
  },
  {
   "cell_type": "code",
   "execution_count": null,
   "id": "3bdf7750",
   "metadata": {},
   "outputs": [],
   "source": []
  }
 ],
 "metadata": {
  "kernelspec": {
   "display_name": "Python 3 (ipykernel)",
   "language": "python",
   "name": "python3"
  },
  "language_info": {
   "codemirror_mode": {
    "name": "ipython",
    "version": 3
   },
   "file_extension": ".py",
   "mimetype": "text/x-python",
   "name": "python",
   "nbconvert_exporter": "python",
   "pygments_lexer": "ipython3",
   "version": "3.11.4"
  }
 },
 "nbformat": 4,
 "nbformat_minor": 5
}
